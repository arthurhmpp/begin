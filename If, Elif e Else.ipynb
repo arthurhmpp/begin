{
 "cells": [
  {
   "cell_type": "markdown",
   "id": "2f55f416-cb3b-4c1f-abf2-d0df7d7d3203",
   "metadata": {},
   "source": [
    "### If, Elif e Else"
   ]
  },
  {
   "cell_type": "code",
   "execution_count": 2,
   "id": "519c9467-2b4a-45c4-a1b7-7b9dfdafed79",
   "metadata": {
    "tags": []
   },
   "outputs": [
    {
     "name": "stdout",
     "output_type": "stream",
     "text": [
      "esta quente\n"
     ]
    }
   ],
   "source": [
    "temp = 31\n",
    "\n",
    "if temp > 30:\n",
    "    print(\"esta quente\")"
   ]
  },
  {
   "cell_type": "code",
   "execution_count": 7,
   "id": "e6c5600d-39a1-4da1-a7c7-143d7ec1e018",
   "metadata": {
    "tags": []
   },
   "outputs": [
    {
     "name": "stdout",
     "output_type": "stream",
     "text": [
      "esta muito frio\n",
      "impossivel viver\n"
     ]
    }
   ],
   "source": [
    "temp = -51\n",
    "\n",
    "if temp >= 30:\n",
    "    print(\"esta quente\")\n",
    "elif temp < 0:\n",
    "    print(\"esta muito frio\")\n",
    "    if temp < -50:\n",
    "        print(\"impossivel viver\")\n",
    "else:\n",
    "    print(\"temperatura agradavel\")"
   ]
  },
  {
   "cell_type": "code",
   "execution_count": null,
   "id": "e3aba744-6367-4b72-9b55-e289363c4ef3",
   "metadata": {},
   "outputs": [],
   "source": []
  }
 ],
 "metadata": {
  "kernelspec": {
   "display_name": "Python 3 (ipykernel)",
   "language": "python",
   "name": "python3"
  },
  "language_info": {
   "codemirror_mode": {
    "name": "ipython",
    "version": 3
   },
   "file_extension": ".py",
   "mimetype": "text/x-python",
   "name": "python",
   "nbconvert_exporter": "python",
   "pygments_lexer": "ipython3",
   "version": "3.11.5"
  }
 },
 "nbformat": 4,
 "nbformat_minor": 5
}
