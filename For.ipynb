{
 "cells": [
  {
   "cell_type": "markdown",
   "id": "47ee29ae-3621-489a-8029-50cc27c483f3",
   "metadata": {
    "tags": []
   },
   "source": [
    "## For"
   ]
  },
  {
   "cell_type": "code",
   "execution_count": 3,
   "id": "667d5797-0543-45df-98ab-49ff0cfc0fb5",
   "metadata": {
    "tags": []
   },
   "outputs": [
    {
     "data": {
      "text/plain": [
       "[0, 1, 2, 3, 4, 5, 6, 7, 8, 9]"
      ]
     },
     "execution_count": 3,
     "metadata": {},
     "output_type": "execute_result"
    }
   ],
   "source": [
    "list(range(0, 10))"
   ]
  },
  {
   "cell_type": "code",
   "execution_count": 4,
   "id": "b9ac6440-2840-4378-a41f-13f5e6276644",
   "metadata": {
    "tags": []
   },
   "outputs": [
    {
     "name": "stdout",
     "output_type": "stream",
     "text": [
      "0\n",
      "1\n",
      "2\n",
      "3\n",
      "4\n",
      "5\n",
      "6\n",
      "7\n",
      "8\n",
      "9\n"
     ]
    }
   ],
   "source": [
    "for i in range(10):\n",
    "    print(i)\n",
    "    "
   ]
  },
  {
   "cell_type": "code",
   "execution_count": 5,
   "id": "5b2ff09a-19ac-47f3-85a8-759cf5cfcad2",
   "metadata": {
    "tags": []
   },
   "outputs": [
    {
     "name": "stdout",
     "output_type": "stream",
     "text": [
      "a\n",
      "b\n",
      "c\n"
     ]
    }
   ],
   "source": [
    "l = [\"a\", \"b\", \"c\"]\n",
    "\n",
    "for i in l:\n",
    "    print(i)"
   ]
  },
  {
   "cell_type": "code",
   "execution_count": 6,
   "id": "3ba3fe20-d95c-439c-98cd-890eb6708025",
   "metadata": {
    "tags": []
   },
   "outputs": [
    {
     "name": "stdout",
     "output_type": "stream",
     "text": [
      "a\n",
      "r\n",
      "t\n",
      "h\n",
      "u\n",
      "r\n"
     ]
    }
   ],
   "source": [
    "l = \"arthur\"\n",
    "\n",
    "for i in l:\n",
    "    print(i)"
   ]
  },
  {
   "cell_type": "code",
   "execution_count": 7,
   "id": "6021ac8d-f1fd-4b85-a177-a94afaf2a712",
   "metadata": {
    "tags": []
   },
   "outputs": [
    {
     "name": "stdout",
     "output_type": "stream",
     "text": [
      "0 é par\n",
      "2 é par\n",
      "4 é par\n",
      "6 é par\n",
      "8 é par\n",
      "10 é par\n",
      "12 é par\n",
      "14 é par\n",
      "16 é par\n",
      "18 é par\n",
      "20 é par\n",
      "22 é par\n",
      "24 é par\n",
      "26 é par\n",
      "28 é par\n",
      "30 é par\n",
      "32 é par\n",
      "34 é par\n",
      "36 é par\n",
      "38 é par\n",
      "40 é par\n",
      "42 é par\n",
      "44 é par\n",
      "46 é par\n",
      "48 é par\n",
      "50 é par\n",
      "52 é par\n",
      "54 é par\n",
      "56 é par\n",
      "58 é par\n",
      "60 é par\n",
      "62 é par\n",
      "64 é par\n",
      "66 é par\n",
      "68 é par\n",
      "70 é par\n",
      "72 é par\n",
      "74 é par\n",
      "76 é par\n",
      "78 é par\n",
      "80 é par\n",
      "82 é par\n",
      "84 é par\n",
      "86 é par\n",
      "88 é par\n",
      "90 é par\n",
      "92 é par\n",
      "94 é par\n",
      "96 é par\n",
      "98 é par\n"
     ]
    }
   ],
   "source": [
    "for i in range(100):\n",
    "    if i % 2 == 0:\n",
    "        print(\"{} é par\".format(i))"
   ]
  },
  {
   "cell_type": "code",
   "execution_count": null,
   "id": "854acc67-ae27-4876-b86c-86ea0cd2ed48",
   "metadata": {},
   "outputs": [],
   "source": []
  }
 ],
 "metadata": {
  "kernelspec": {
   "display_name": "Python 3 (ipykernel)",
   "language": "python",
   "name": "python3"
  },
  "language_info": {
   "codemirror_mode": {
    "name": "ipython",
    "version": 3
   },
   "file_extension": ".py",
   "mimetype": "text/x-python",
   "name": "python",
   "nbconvert_exporter": "python",
   "pygments_lexer": "ipython3",
   "version": "3.11.5"
  }
 },
 "nbformat": 4,
 "nbformat_minor": 5
}
