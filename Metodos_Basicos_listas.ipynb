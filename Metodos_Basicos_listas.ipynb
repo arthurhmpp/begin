{
 "cells": [
  {
   "cell_type": "markdown",
   "id": "0b026121-96ba-44bc-bca1-012b8a7bbfbe",
   "metadata": {
    "tags": []
   },
   "source": [
    "## Métodos Básicos de listas"
   ]
  },
  {
   "cell_type": "code",
   "execution_count": 19,
   "id": "eaa3ddd8-a551-4e1b-b486-326425ff1572",
   "metadata": {
    "tags": []
   },
   "outputs": [],
   "source": [
    "l = [1, 2, 3,]"
   ]
  },
  {
   "cell_type": "code",
   "execution_count": 20,
   "id": "1a1337b4-cca5-4429-a933-741656ebc4a2",
   "metadata": {
    "tags": []
   },
   "outputs": [],
   "source": [
    "l.append(\"4\")"
   ]
  },
  {
   "cell_type": "code",
   "execution_count": 21,
   "id": "cd4dd801-7145-4115-a051-1577fb7bfe2e",
   "metadata": {
    "tags": []
   },
   "outputs": [
    {
     "data": {
      "text/plain": [
       "[1, 2, 3, '4']"
      ]
     },
     "execution_count": 21,
     "metadata": {},
     "output_type": "execute_result"
    }
   ],
   "source": [
    "l"
   ]
  },
  {
   "cell_type": "code",
   "execution_count": 22,
   "id": "12f19274-9c86-49b0-906b-b8c81ac61c41",
   "metadata": {
    "tags": []
   },
   "outputs": [],
   "source": [
    "l.append(4)"
   ]
  },
  {
   "cell_type": "code",
   "execution_count": 23,
   "id": "5f71e51a-16d7-4988-84fc-fcf1eb276f0e",
   "metadata": {
    "tags": []
   },
   "outputs": [
    {
     "data": {
      "text/plain": [
       "[1, 2, 3, '4', 4]"
      ]
     },
     "execution_count": 23,
     "metadata": {},
     "output_type": "execute_result"
    }
   ],
   "source": [
    "l"
   ]
  },
  {
   "cell_type": "code",
   "execution_count": 24,
   "id": "23408e12-8dca-461d-9f0b-7de2d9b52931",
   "metadata": {
    "tags": []
   },
   "outputs": [
    {
     "data": {
      "text/plain": [
       "4"
      ]
     },
     "execution_count": 24,
     "metadata": {},
     "output_type": "execute_result"
    }
   ],
   "source": [
    "l.pop()"
   ]
  },
  {
   "cell_type": "code",
   "execution_count": 25,
   "id": "ef0056bf-c01a-4cb8-9805-0a9558dbd18f",
   "metadata": {
    "tags": []
   },
   "outputs": [
    {
     "data": {
      "text/plain": [
       "[1, 2, 3, '4']"
      ]
     },
     "execution_count": 25,
     "metadata": {},
     "output_type": "execute_result"
    }
   ],
   "source": [
    "l"
   ]
  },
  {
   "cell_type": "code",
   "execution_count": 26,
   "id": "adf08f66-7f7b-4133-9320-629f0bcf1286",
   "metadata": {
    "tags": []
   },
   "outputs": [],
   "source": [
    "new_lista = [\"a\", \"b\", \"c\", \"d\"]"
   ]
  },
  {
   "cell_type": "code",
   "execution_count": 27,
   "id": "5cc2d193-6f0b-4fc6-ba6a-ff9792d36729",
   "metadata": {
    "tags": []
   },
   "outputs": [],
   "source": [
    "new_lista.sort()"
   ]
  },
  {
   "cell_type": "code",
   "execution_count": 28,
   "id": "bd1f1333-223d-4dad-80f3-c2b822641db8",
   "metadata": {
    "tags": []
   },
   "outputs": [
    {
     "data": {
      "text/plain": [
       "['a', 'b', 'c', 'd']"
      ]
     },
     "execution_count": 28,
     "metadata": {},
     "output_type": "execute_result"
    }
   ],
   "source": [
    "new_lista"
   ]
  },
  {
   "cell_type": "code",
   "execution_count": 29,
   "id": "a7c5e4f9-e0a3-4747-8c7a-6332bb81401e",
   "metadata": {
    "tags": []
   },
   "outputs": [],
   "source": [
    "new_lista.reverse()"
   ]
  },
  {
   "cell_type": "code",
   "execution_count": 30,
   "id": "de6cfa15-d97a-466b-ac35-4a004c70f1fc",
   "metadata": {
    "tags": []
   },
   "outputs": [
    {
     "data": {
      "text/plain": [
       "['d', 'c', 'b', 'a']"
      ]
     },
     "execution_count": 30,
     "metadata": {},
     "output_type": "execute_result"
    }
   ],
   "source": [
    "new_lista"
   ]
  },
  {
   "cell_type": "code",
   "execution_count": 31,
   "id": "1f535a6c-8789-4c87-8dde-b2daa2840b5c",
   "metadata": {
    "tags": []
   },
   "outputs": [],
   "source": [
    "list1 = [1, 2, 3]\n",
    "list2 = [4, 5, 6]\n",
    "list3 = [7, 8, 9]"
   ]
  },
  {
   "cell_type": "code",
   "execution_count": 32,
   "id": "6046a883-4d9d-4d65-92c0-e4228e9854d6",
   "metadata": {
    "tags": []
   },
   "outputs": [],
   "source": [
    "list4 = [list1, list2, list3]"
   ]
  },
  {
   "cell_type": "code",
   "execution_count": 33,
   "id": "0d111ffe-54b4-495a-ae78-b747fcff4839",
   "metadata": {
    "tags": []
   },
   "outputs": [
    {
     "data": {
      "text/plain": [
       "[[1, 2, 3], [4, 5, 6], [7, 8, 9]]"
      ]
     },
     "execution_count": 33,
     "metadata": {},
     "output_type": "execute_result"
    }
   ],
   "source": [
    "list4"
   ]
  },
  {
   "cell_type": "code",
   "execution_count": 36,
   "id": "6cc6da94-7e9b-4cbd-be41-5f0ea219915c",
   "metadata": {
    "tags": []
   },
   "outputs": [
    {
     "data": {
      "text/plain": [
       "5"
      ]
     },
     "execution_count": 36,
     "metadata": {},
     "output_type": "execute_result"
    }
   ],
   "source": [
    "list4[1][1]"
   ]
  }
 ],
 "metadata": {
  "kernelspec": {
   "display_name": "Python 3 (ipykernel)",
   "language": "python",
   "name": "python3"
  },
  "language_info": {
   "codemirror_mode": {
    "name": "ipython",
    "version": 3
   },
   "file_extension": ".py",
   "mimetype": "text/x-python",
   "name": "python",
   "nbconvert_exporter": "python",
   "pygments_lexer": "ipython3",
   "version": "3.11.5"
  }
 },
 "nbformat": 4,
 "nbformat_minor": 5
}
