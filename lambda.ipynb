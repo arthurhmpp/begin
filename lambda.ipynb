{
 "cells": [
  {
   "cell_type": "markdown",
   "id": "b2cfd67f-a17d-4eec-a04b-c852b558879a",
   "metadata": {},
   "source": [
    "## lambda"
   ]
  },
  {
   "cell_type": "code",
   "execution_count": 1,
   "id": "d1096411-9e26-46c3-a1f2-eea5c014149d",
   "metadata": {
    "tags": []
   },
   "outputs": [],
   "source": [
    "def elevar_ao_quadra(x):\n",
    "    return x ** 2"
   ]
  },
  {
   "cell_type": "code",
   "execution_count": 2,
   "id": "0f7322f7-e3e0-4c31-9816-4740ae728380",
   "metadata": {
    "tags": []
   },
   "outputs": [
    {
     "data": {
      "text/plain": [
       "4"
      ]
     },
     "execution_count": 2,
     "metadata": {},
     "output_type": "execute_result"
    }
   ],
   "source": [
    "elevar_ao_quadra(2)"
   ]
  },
  {
   "cell_type": "code",
   "execution_count": 4,
   "id": "f35b4f89-5808-4e05-a767-0e6641235ec7",
   "metadata": {
    "tags": []
   },
   "outputs": [],
   "source": [
    "a = lambda x: x ** 2"
   ]
  },
  {
   "cell_type": "code",
   "execution_count": 5,
   "id": "2c91021b-de1e-41e5-a07a-4ea6f14a765d",
   "metadata": {
    "tags": []
   },
   "outputs": [
    {
     "data": {
      "text/plain": [
       "function"
      ]
     },
     "execution_count": 5,
     "metadata": {},
     "output_type": "execute_result"
    }
   ],
   "source": [
    "type(a)"
   ]
  },
  {
   "cell_type": "code",
   "execution_count": 6,
   "id": "b4c70605-c0ad-4f41-8e25-78579a86f87d",
   "metadata": {
    "tags": []
   },
   "outputs": [
    {
     "data": {
      "text/plain": [
       "1000000"
      ]
     },
     "execution_count": 6,
     "metadata": {},
     "output_type": "execute_result"
    }
   ],
   "source": [
    "a(1000)"
   ]
  },
  {
   "cell_type": "code",
   "execution_count": null,
   "id": "b775a839-24c7-43d7-862a-106c91d8c2ce",
   "metadata": {},
   "outputs": [],
   "source": []
  }
 ],
 "metadata": {
  "kernelspec": {
   "display_name": "Python 3 (ipykernel)",
   "language": "python",
   "name": "python3"
  },
  "language_info": {
   "codemirror_mode": {
    "name": "ipython",
    "version": 3
   },
   "file_extension": ".py",
   "mimetype": "text/x-python",
   "name": "python",
   "nbconvert_exporter": "python",
   "pygments_lexer": "ipython3",
   "version": "3.11.5"
  }
 },
 "nbformat": 4,
 "nbformat_minor": 5
}
