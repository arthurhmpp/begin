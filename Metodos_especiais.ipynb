{
 "cells": [
  {
   "cell_type": "markdown",
   "id": "269a40f5-2f9d-449c-82b0-fa720f80d3de",
   "metadata": {},
   "source": [
    "## Metodos especiais"
   ]
  },
  {
   "cell_type": "code",
   "execution_count": 13,
   "id": "c458a841-6766-450c-b9d1-c83eb9beb990",
   "metadata": {
    "tags": []
   },
   "outputs": [],
   "source": [
    "class Book(object):\n",
    "    def __init__(self, title, author, pages):\n",
    "        print(\"A book is created\")\n",
    "        self.title = title\n",
    "        self.author = author\n",
    "        self.pages = pages\n",
    "        \n",
    "    def __str__(self):\n",
    "        return \"Title:%s, Author:%s, pages:%s \" %(self.title, self.author, self.pages)\n",
    "    \n",
    "    def __len__(self):\n",
    "        return self.pages\n",
    "    \n",
    "    def __del__(self):\n",
    "        print(\"A book is destroyed\")"
   ]
  },
  {
   "cell_type": "code",
   "execution_count": 14,
   "id": "0429db83-cceb-4002-9f69-611b5c828e44",
   "metadata": {
    "tags": []
   },
   "outputs": [
    {
     "name": "stdout",
     "output_type": "stream",
     "text": [
      "A book is created\n",
      "Title:Curso de python, Author:Arthur Henrique, pages:40 \n",
      "40\n",
      "A book is destroyed\n"
     ]
    }
   ],
   "source": [
    "book = Book(\"Curso de python\", \"Arthur Henrique\", 40)\n",
    "#Metodos especiais\n",
    "print(book)\n",
    "print(len(book))\n",
    "del book"
   ]
  },
  {
   "cell_type": "code",
   "execution_count": 15,
   "id": "aae8c37d-c717-4e49-9272-bccbee9a3ce1",
   "metadata": {
    "tags": []
   },
   "outputs": [
    {
     "ename": "NameError",
     "evalue": "name 'book' is not defined",
     "output_type": "error",
     "traceback": [
      "\u001b[0;31m---------------------------------------------------------------------------\u001b[0m",
      "\u001b[0;31mNameError\u001b[0m                                 Traceback (most recent call last)",
      "Cell \u001b[0;32mIn[15], line 2\u001b[0m\n\u001b[1;32m      1\u001b[0m \u001b[38;5;66;03m#variavel foi limpa\u001b[39;00m\n\u001b[0;32m----> 2\u001b[0m \u001b[38;5;28mprint\u001b[39m(book)\n",
      "\u001b[0;31mNameError\u001b[0m: name 'book' is not defined"
     ]
    }
   ],
   "source": [
    "#variavel foi limpa\n",
    "print(book)"
   ]
  },
  {
   "cell_type": "code",
   "execution_count": null,
   "id": "3ee99416-75ca-4372-afea-aea6a2332cdc",
   "metadata": {},
   "outputs": [],
   "source": []
  }
 ],
 "metadata": {
  "kernelspec": {
   "display_name": "Python 3 (ipykernel)",
   "language": "python",
   "name": "python3"
  },
  "language_info": {
   "codemirror_mode": {
    "name": "ipython",
    "version": 3
   },
   "file_extension": ".py",
   "mimetype": "text/x-python",
   "name": "python",
   "nbconvert_exporter": "python",
   "pygments_lexer": "ipython3",
   "version": "3.11.5"
  }
 },
 "nbformat": 4,
 "nbformat_minor": 5
}
