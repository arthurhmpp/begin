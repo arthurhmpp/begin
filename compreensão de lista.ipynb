{
 "cells": [
  {
   "cell_type": "markdown",
   "id": "0c411ba7-6b93-4043-9977-4e0d28370be3",
   "metadata": {
    "tags": []
   },
   "source": [
    "## Compreensão listas"
   ]
  },
  {
   "cell_type": "code",
   "execution_count": 6,
   "id": "3e8a157d-e641-47fa-b577-d5ddb0b07f87",
   "metadata": {
    "tags": []
   },
   "outputs": [],
   "source": [
    "word = \"string\"\n"
   ]
  },
  {
   "cell_type": "code",
   "execution_count": 8,
   "id": "7888e1e6-7367-440e-8521-c71e5429a388",
   "metadata": {},
   "outputs": [],
   "source": [
    "list_word = []\n",
    "for w in word:\n",
    "    list_word.append(w)"
   ]
  },
  {
   "cell_type": "code",
   "execution_count": 9,
   "id": "ec9fb25a-0af3-4c78-8632-276453b979d5",
   "metadata": {
    "tags": []
   },
   "outputs": [
    {
     "data": {
      "text/plain": [
       "['s', 't', 'r', 'i', 'n', 'g']"
      ]
     },
     "execution_count": 9,
     "metadata": {},
     "output_type": "execute_result"
    }
   ],
   "source": [
    "list_word"
   ]
  },
  {
   "cell_type": "code",
   "execution_count": 10,
   "id": "de7e7eca-eb79-49cb-8c37-eed14d1d5fb1",
   "metadata": {
    "tags": []
   },
   "outputs": [],
   "source": [
    "list_word = [(w) for w in word]"
   ]
  },
  {
   "cell_type": "code",
   "execution_count": 11,
   "id": "75818d36-3a11-44f2-8e01-266e777959f1",
   "metadata": {
    "tags": []
   },
   "outputs": [
    {
     "data": {
      "text/plain": [
       "['s', 't', 'r', 'i', 'n', 'g']"
      ]
     },
     "execution_count": 11,
     "metadata": {},
     "output_type": "execute_result"
    }
   ],
   "source": [
    "list_word"
   ]
  },
  {
   "cell_type": "code",
   "execution_count": 12,
   "id": "c608c6a3-bfd9-4722-b055-752d607894ee",
   "metadata": {
    "tags": []
   },
   "outputs": [],
   "source": [
    "list_word = [(x**2) for x in range(10)]"
   ]
  },
  {
   "cell_type": "code",
   "execution_count": 13,
   "id": "ff569a72-0a73-416a-ba01-9e935466edd9",
   "metadata": {
    "tags": []
   },
   "outputs": [
    {
     "data": {
      "text/plain": [
       "[0, 1, 4, 9, 16, 25, 36, 49, 64, 81]"
      ]
     },
     "execution_count": 13,
     "metadata": {},
     "output_type": "execute_result"
    }
   ],
   "source": [
    "list_word"
   ]
  },
  {
   "cell_type": "code",
   "execution_count": 15,
   "id": "4aee261a-bcce-46e3-b8c9-7264a751a8bf",
   "metadata": {
    "tags": []
   },
   "outputs": [],
   "source": [
    "list_word = [x for x in range(50) if x % 2 == 0]"
   ]
  },
  {
   "cell_type": "code",
   "execution_count": 16,
   "id": "ae9196cb-97c0-4f0f-bfa5-9e97ff540f2f",
   "metadata": {
    "tags": []
   },
   "outputs": [
    {
     "data": {
      "text/plain": [
       "[0,\n",
       " 2,\n",
       " 4,\n",
       " 6,\n",
       " 8,\n",
       " 10,\n",
       " 12,\n",
       " 14,\n",
       " 16,\n",
       " 18,\n",
       " 20,\n",
       " 22,\n",
       " 24,\n",
       " 26,\n",
       " 28,\n",
       " 30,\n",
       " 32,\n",
       " 34,\n",
       " 36,\n",
       " 38,\n",
       " 40,\n",
       " 42,\n",
       " 44,\n",
       " 46,\n",
       " 48]"
      ]
     },
     "execution_count": 16,
     "metadata": {},
     "output_type": "execute_result"
    }
   ],
   "source": [
    "list_word"
   ]
  },
  {
   "cell_type": "code",
   "execution_count": null,
   "id": "5c22b6e0-1e7d-4e48-bb6b-54dd82ae0260",
   "metadata": {},
   "outputs": [],
   "source": []
  }
 ],
 "metadata": {
  "kernelspec": {
   "display_name": "Python 3 (ipykernel)",
   "language": "python",
   "name": "python3"
  },
  "language_info": {
   "codemirror_mode": {
    "name": "ipython",
    "version": 3
   },
   "file_extension": ".py",
   "mimetype": "text/x-python",
   "name": "python",
   "nbconvert_exporter": "python",
   "pygments_lexer": "ipython3",
   "version": "3.11.5"
  }
 },
 "nbformat": 4,
 "nbformat_minor": 5
}
