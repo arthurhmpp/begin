{
 "cells": [
  {
   "cell_type": "markdown",
   "metadata": {},
   "source": [
    "<img src=\"https://asimov.academy/wp-content/uploads/2021/01/logo.png\" width=\"200\"/>\n",
    "_____________________________________________\n",
    "\n",
    "## Exercícios #1 - Estruturas de dados\n"
   ]
  },
  {
   "cell_type": "markdown",
   "metadata": {},
   "source": [
    "### Exercício 1\n",
    "Utilizando o built-in method input(), crie um programa que receba a altura e o peso de uma pessoa e imprima na tela o IMC da mesma."
   ]
  },
  {
   "cell_type": "code",
   "execution_count": 21,
   "metadata": {
    "tags": []
   },
   "outputs": [
    {
     "name": "stdout",
     "output_type": "stream",
     "text": [
      "informe sua altura\n"
     ]
    },
    {
     "name": "stdin",
     "output_type": "stream",
     "text": [
      " 1.74\n"
     ]
    },
    {
     "name": "stdout",
     "output_type": "stream",
     "text": [
      "informe seu peso\n"
     ]
    },
    {
     "name": "stdin",
     "output_type": "stream",
     "text": [
      " 89\n"
     ]
    },
    {
     "data": {
      "text/plain": [
       "25.57471264367816"
      ]
     },
     "execution_count": 21,
     "metadata": {},
     "output_type": "execute_result"
    }
   ],
   "source": [
    "print(\"informe sua altura\")\n",
    "a = input()\n",
    "print(\"informe seu peso\")\n",
    "b = input()\n",
    "int(b) / (float(a) *2 )"
   ]
  },
  {
   "cell_type": "code",
   "execution_count": 5,
   "metadata": {
    "tags": []
   },
   "outputs": [
    {
     "name": "stdout",
     "output_type": "stream",
     "text": [
      "bem vindo a calculandora de IMC\n",
      "POr favor, informe sua altura:\n"
     ]
    },
    {
     "name": "stdin",
     "output_type": "stream",
     "text": [
      " 1.74\n"
     ]
    },
    {
     "name": "stdout",
     "output_type": "stream",
     "text": [
      "Por favor informe seu peso:\n"
     ]
    },
    {
     "name": "stdin",
     "output_type": "stream",
     "text": [
      " 89\n"
     ]
    },
    {
     "name": "stdout",
     "output_type": "stream",
     "text": [
      "Calculando...\n",
      "=====================\n",
      "Seu IMC pe de: 29.40\n",
      "Seu IMC pe de: 29.396221429515126\n"
     ]
    }
   ],
   "source": [
    "import time\n",
    "\n",
    "print(\"bem vindo a calculandora de IMC\")\n",
    "print(\"POr favor, informe sua altura:\")\n",
    "altura = float(input())\n",
    "\n",
    "print(\"Por favor informe seu peso:\")\n",
    "peso = float(input())\n",
    "\n",
    "print(\"Calculando...\")\n",
    "time.sleep(1)\n",
    "print(\"=====================\")\n",
    "print(\"Seu IMC pe de: {:.2f}\".format(peso / altura ** 2))\n",
    "print(\"Seu IMC pe de: {}\".format(peso / altura ** 2))"
   ]
  },
  {
   "cell_type": "markdown",
   "metadata": {},
   "source": [
    "### Exercício 2 \n",
    "Escreva um programa que pergunte o nome completo do usuário e cumprimente o mesmo pelo primeiro nome."
   ]
  },
  {
   "cell_type": "code",
   "execution_count": 6,
   "metadata": {
    "tags": []
   },
   "outputs": [
    {
     "name": "stdin",
     "output_type": "stream",
     "text": [
      " arthur henrique\n"
     ]
    },
    {
     "data": {
      "text/plain": [
       "' Ola!! arthur'"
      ]
     },
     "execution_count": 6,
     "metadata": {},
     "output_type": "execute_result"
    }
   ],
   "source": [
    "nome = input()\n",
    "primeiro_nome = nome.split(\" \")\n",
    "\n",
    "\" Ola!! {}\".format(primeiro_nome[0])"
   ]
  },
  {
   "cell_type": "code",
   "execution_count": 7,
   "metadata": {
    "tags": []
   },
   "outputs": [
    {
     "name": "stdin",
     "output_type": "stream",
     "text": [
      " arthur henrique \n"
     ]
    },
    {
     "data": {
      "text/plain": [
       "' Ola!! arthur'"
      ]
     },
     "execution_count": 7,
     "metadata": {},
     "output_type": "execute_result"
    }
   ],
   "source": [
    "nome = input()\n",
    "primeiro_nome = nome.split()[0]\n",
    "\n",
    "\" Ola!! {}\".format(primeiro_nome)"
   ]
  },
  {
   "cell_type": "markdown",
   "metadata": {},
   "source": [
    "### Exercício 3\n",
    "Desenho um código que extraia o domínio de um e-mail informado."
   ]
  },
  {
   "cell_type": "code",
   "execution_count": 8,
   "metadata": {
    "tags": []
   },
   "outputs": [
    {
     "name": "stdout",
     "output_type": "stream",
     "text": [
      "informe um e-mail\n"
     ]
    },
    {
     "name": "stdin",
     "output_type": "stream",
     "text": [
      " arthur@gmail\n"
     ]
    },
    {
     "name": "stdout",
     "output_type": "stream",
     "text": [
      "gmail\n"
     ]
    }
   ],
   "source": [
    "print(\"informe um e-mail\")\n",
    "a = input()\n",
    "x = a.split(\"@\")\n",
    "print(x[-1])"
   ]
  },
  {
   "cell_type": "markdown",
   "metadata": {},
   "source": [
    "### Exercício 4 \n",
    "Faça um programa para uma loja de tintas. A pessoa informa a área em m2 que deseja pintar, e o script calculará a quantidade de latas de tinta que a pessoa deve comprar e o valor. Considere que cada litro de tinta pinta 3m2, que cada lata contém 18L e que custa R$ 80."
   ]
  },
  {
   "cell_type": "code",
   "execution_count": 14,
   "metadata": {
    "tags": []
   },
   "outputs": [
    {
     "name": "stdout",
     "output_type": "stream",
     "text": [
      "quantos metros quadrados?\n"
     ]
    },
    {
     "name": "stdin",
     "output_type": "stream",
     "text": [
      " 180\n"
     ]
    },
    {
     "name": "stdout",
     "output_type": "stream",
     "text": [
      "voce precisara de 3 latas e elas custarão 240 reais.\n"
     ]
    }
   ],
   "source": [
    "print(\"quantos metros quadrados?\")\n",
    "area = float(input())\n",
    "volume = area / 3\n",
    "latas = int(x / 18)\n",
    "custo = latas * 80\n",
    "print(\"voce precisara de {} latas e elas custarão {} reais.\".format(latas, custo))"
   ]
  },
  {
   "cell_type": "markdown",
   "metadata": {},
   "source": [
    "### Exercício 5\n",
    "Faça um Programa que pergunte quanto você ganha por hora e o número de horas trabalhadas no mês. Calcule e mostre o total do seu salário no referido mês, sabendo-se que são descontados 11% para o Imposto de Renda, 8% para o INSS e 5% para o sindicato, faça um programa que nos dê:\n",
    "1. Salário bruto.\n",
    "2. Quanto pagou ao INSS.\n",
    "3. Quanto pagou ao sindicato.\n",
    "4. O salário líquido."
   ]
  },
  {
   "cell_type": "code",
   "execution_count": 16,
   "metadata": {},
   "outputs": [
    {
     "name": "stdout",
     "output_type": "stream",
     "text": [
      "qual seu salario por hora?\n"
     ]
    },
    {
     "name": "stdin",
     "output_type": "stream",
     "text": [
      " 40\n"
     ]
    },
    {
     "name": "stdout",
     "output_type": "stream",
     "text": [
      "quantas horas vc trabalha?\n"
     ]
    },
    {
     "name": "stdin",
     "output_type": "stream",
     "text": [
      " 80\n"
     ]
    },
    {
     "data": {
      "text/plain": [
       "'seu salario bruto é de : 3200.00, com os descontos de INSS no valor de: 227.84, sindicato de: 131.01 e IR de: 352.00 seu salario liquido ficou de: 2489.15'"
      ]
     },
     "execution_count": 16,
     "metadata": {},
     "output_type": "execute_result"
    }
   ],
   "source": [
    "print(\"qual seu salario por hora?\")\n",
    "salario = float(input())\n",
    "print(\"quantas horas vc trabalha?\")\n",
    "horas = float(input())\n",
    "\n",
    "bruto = salario * horas\n",
    "IR = bruto * 0.11\n",
    "INSS = (bruto - IR) * 0.08\n",
    "sindicato = (bruto - IR - INSS) * 0.05\n",
    "\n",
    "salario_liquido = bruto - INSS - IR - sindicato\n",
    "\"seu salario bruto é de : {a:.2f}, com os descontos de INSS no valor de: {b:.2f}, sindicato de: {c:.2f} e IR de: {d:.2f} seu salario liquido ficou de: {e:.2f}\".format(a=bruto, b=INSS, c=sindicato, d=IR, e=salario_liquido)"
   ]
  },
  {
   "cell_type": "code",
   "execution_count": null,
   "metadata": {},
   "outputs": [],
   "source": []
  }
 ],
 "metadata": {
  "kernelspec": {
   "display_name": "Python 3 (ipykernel)",
   "language": "python",
   "name": "python3"
  },
  "language_info": {
   "codemirror_mode": {
    "name": "ipython",
    "version": 3
   },
   "file_extension": ".py",
   "mimetype": "text/x-python",
   "name": "python",
   "nbconvert_exporter": "python",
   "pygments_lexer": "ipython3",
   "version": "3.11.5"
  }
 },
 "nbformat": 4,
 "nbformat_minor": 4
}
