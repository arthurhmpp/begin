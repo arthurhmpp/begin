{
 "cells": [
  {
   "cell_type": "markdown",
   "id": "1923eb5b-2e2a-4fb9-a2b1-3154cbc56af7",
   "metadata": {},
   "source": [
    "## Logging"
   ]
  },
  {
   "cell_type": "code",
   "execution_count": 1,
   "id": "41e0eaf0-c208-4a88-bc88-7a72b8f6e0e1",
   "metadata": {
    "tags": []
   },
   "outputs": [],
   "source": [
    "import logging"
   ]
  },
  {
   "cell_type": "code",
   "execution_count": 2,
   "id": "f10291a7-900c-4f7e-89ba-fb898f4cd165",
   "metadata": {
    "tags": []
   },
   "outputs": [],
   "source": [
    "LOG_FORMAT = \"%(levelname)s %(asctime)s - %(message)s\""
   ]
  },
  {
   "cell_type": "code",
   "execution_count": 3,
   "id": "f09ab923-dda4-4ca3-aca8-a3bb048cabb0",
   "metadata": {
    "tags": []
   },
   "outputs": [],
   "source": [
    "logging.basicConfig(filename=\"app.log\", level=logging.DEBUG, filemode = \"w\", format=LOG_FORMAT)"
   ]
  },
  {
   "cell_type": "code",
   "execution_count": 4,
   "id": "b00e404b-2f37-4c08-aa8e-199fdf8b3208",
   "metadata": {
    "tags": []
   },
   "outputs": [],
   "source": [
    "log = logging.getLogger()"
   ]
  },
  {
   "cell_type": "code",
   "execution_count": 5,
   "id": "dc1b50a7-7cdb-4abd-b3e0-a1ad42d08277",
   "metadata": {
    "tags": []
   },
   "outputs": [],
   "source": [
    "log.info(\"Olá\")\n",
    "log.critical(\"Erro grave\")\n",
    "log.error(\"vixe\")\n",
    "log.debug(\"Erro que não viu\")\n",
    "log.warning(\"só avisando\")"
   ]
  },
  {
   "cell_type": "code",
   "execution_count": 6,
   "id": "a931a0af-5543-4c13-8d22-475c5a1fb913",
   "metadata": {
    "tags": []
   },
   "outputs": [
    {
     "data": {
      "text/plain": [
       "10"
      ]
     },
     "execution_count": 6,
     "metadata": {},
     "output_type": "execute_result"
    }
   ],
   "source": [
    "log.level"
   ]
  },
  {
   "cell_type": "code",
   "execution_count": null,
   "id": "6f8643dc-9d2c-4c80-819d-f58ec46d550f",
   "metadata": {},
   "outputs": [],
   "source": []
  }
 ],
 "metadata": {
  "kernelspec": {
   "display_name": "Python 3 (ipykernel)",
   "language": "python",
   "name": "python3"
  },
  "language_info": {
   "codemirror_mode": {
    "name": "ipython",
    "version": 3
   },
   "file_extension": ".py",
   "mimetype": "text/x-python",
   "name": "python",
   "nbconvert_exporter": "python",
   "pygments_lexer": "ipython3",
   "version": "3.11.5"
  }
 },
 "nbformat": 4,
 "nbformat_minor": 5
}
