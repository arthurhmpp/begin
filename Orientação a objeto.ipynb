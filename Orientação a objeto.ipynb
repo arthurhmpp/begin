{
 "cells": [
  {
   "cell_type": "markdown",
   "id": "df799e69-884a-4165-8e42-d07e6f70bf6b",
   "metadata": {},
   "source": [
    "## Orientação a Objeto"
   ]
  },
  {
   "cell_type": "code",
   "execution_count": 1,
   "id": "a8a130d1-7c79-4813-843c-171036aac5ad",
   "metadata": {
    "tags": []
   },
   "outputs": [],
   "source": [
    "l = [1, 2, 3]"
   ]
  },
  {
   "cell_type": "code",
   "execution_count": 2,
   "id": "57883421-e07d-45a2-99ca-94c26b34b047",
   "metadata": {
    "tags": []
   },
   "outputs": [
    {
     "name": "stdout",
     "output_type": "stream",
     "text": [
      "<class 'list'>\n"
     ]
    }
   ],
   "source": [
    "print(type(l))"
   ]
  },
  {
   "cell_type": "code",
   "execution_count": 4,
   "id": "1a10ea34-0ad8-4b93-8050-a29b378ba8e4",
   "metadata": {
    "tags": []
   },
   "outputs": [],
   "source": [
    "l.append(4)"
   ]
  },
  {
   "cell_type": "code",
   "execution_count": 5,
   "id": "31952c29-6076-4aeb-86df-9d1c9ef3abf1",
   "metadata": {
    "tags": []
   },
   "outputs": [],
   "source": [
    "string_ = \"str\""
   ]
  },
  {
   "cell_type": "code",
   "execution_count": 6,
   "id": "127b560e-7b13-4509-a467-8c2f50968a15",
   "metadata": {
    "tags": []
   },
   "outputs": [
    {
     "name": "stdout",
     "output_type": "stream",
     "text": [
      "<class 'str'>\n"
     ]
    }
   ],
   "source": [
    "print(type(string_))"
   ]
  },
  {
   "cell_type": "code",
   "execution_count": 7,
   "id": "60971104-7f26-4b0c-a17e-2d1e6328183b",
   "metadata": {
    "tags": []
   },
   "outputs": [],
   "source": [
    "class Exemplo:\n",
    "        pass"
   ]
  },
  {
   "cell_type": "code",
   "execution_count": 8,
   "id": "96b2a2eb-07ca-4942-bbc4-ef0d55681bb0",
   "metadata": {
    "tags": []
   },
   "outputs": [],
   "source": [
    "x = Exemplo()"
   ]
  },
  {
   "cell_type": "code",
   "execution_count": 10,
   "id": "16a17018-6b7b-45a7-bac1-639dde607eab",
   "metadata": {
    "tags": []
   },
   "outputs": [
    {
     "name": "stdout",
     "output_type": "stream",
     "text": [
      "<class '__main__.Exemplo'>\n"
     ]
    }
   ],
   "source": [
    "print(type(x))"
   ]
  },
  {
   "cell_type": "code",
   "execution_count": 12,
   "id": "eeaa7aa1-6620-4f03-989c-24732f7c53a1",
   "metadata": {
    "tags": []
   },
   "outputs": [],
   "source": [
    "def ob():\n",
    "    valor = 1"
   ]
  },
  {
   "cell_type": "code",
   "execution_count": 13,
   "id": "7e146072-3327-4d7e-a1be-64f9583c30d8",
   "metadata": {
    "tags": []
   },
   "outputs": [
    {
     "ename": "NameError",
     "evalue": "name 'valor' is not defined",
     "output_type": "error",
     "traceback": [
      "\u001b[0;31m---------------------------------------------------------------------------\u001b[0m",
      "\u001b[0;31mNameError\u001b[0m                                 Traceback (most recent call last)",
      "Cell \u001b[0;32mIn[13], line 1\u001b[0m\n\u001b[0;32m----> 1\u001b[0m valor\n",
      "\u001b[0;31mNameError\u001b[0m: name 'valor' is not defined"
     ]
    }
   ],
   "source": [
    "valor"
   ]
  },
  {
   "cell_type": "code",
   "execution_count": 78,
   "id": "00a4423b-2326-4746-8be2-eae89aafa816",
   "metadata": {
    "tags": []
   },
   "outputs": [],
   "source": [
    "class Dog:\n",
    "    #parametro \"self\" sempre precisa vir na frente que qualquer parametr\n",
    "    def __init__(self, raca):\n",
    "        self.raca = raca\n",
    "        self.idade = 10\n",
    "        print(\"sou cachorro não homi {}\".format(raca))\n",
    "    \n",
    "    #como não deviniu o \"self\"\n",
    "    def envelhece():\n",
    "        pass\n",
    "    \n",
    "    def envelhecer(self):\n",
    "        self.idade += 1\n",
    "        return self.idade"
   ]
  },
  {
   "cell_type": "code",
   "execution_count": 73,
   "id": "11400192-ad37-497c-b463-d0d907183b8f",
   "metadata": {
    "tags": []
   },
   "outputs": [
    {
     "name": "stdout",
     "output_type": "stream",
     "text": [
      "sou cachorro não homi lab\n",
      "sou cachorro não homi huskie\n"
     ]
    }
   ],
   "source": [
    "dog = Dog(\"lab\")\n",
    "dog2 = Dog(\"huskie\")"
   ]
  },
  {
   "cell_type": "code",
   "execution_count": 77,
   "id": "e663983f-0fb3-47d6-97c2-d03c15296888",
   "metadata": {
    "tags": []
   },
   "outputs": [
    {
     "data": {
      "text/plain": [
       "11"
      ]
     },
     "execution_count": 77,
     "metadata": {},
     "output_type": "execute_result"
    }
   ],
   "source": [
    "dog.idade = 11\n",
    "dog.idade"
   ]
  },
  {
   "cell_type": "code",
   "execution_count": 75,
   "id": "b6fbad4b-0e00-491d-9906-0ba67b1d1776",
   "metadata": {
    "tags": []
   },
   "outputs": [
    {
     "data": {
      "text/plain": [
       "10"
      ]
     },
     "execution_count": 75,
     "metadata": {},
     "output_type": "execute_result"
    }
   ],
   "source": [
    "dog2.idade"
   ]
  },
  {
   "cell_type": "code",
   "execution_count": 72,
   "id": "932c1a48-ea10-4d8b-979f-9ae991ad56e0",
   "metadata": {
    "tags": []
   },
   "outputs": [
    {
     "ename": "AttributeError",
     "evalue": "'Dog' object has no attribute 'envelhce'",
     "output_type": "error",
     "traceback": [
      "\u001b[0;31m---------------------------------------------------------------------------\u001b[0m",
      "\u001b[0;31mAttributeError\u001b[0m                            Traceback (most recent call last)",
      "Cell \u001b[0;32mIn[72], line 2\u001b[0m\n\u001b[1;32m      1\u001b[0m \u001b[38;5;66;03m#erro porque não foi definido o parametro self\u001b[39;00m\n\u001b[0;32m----> 2\u001b[0m dog\u001b[38;5;241m.\u001b[39menvelhce()\n",
      "\u001b[0;31mAttributeError\u001b[0m: 'Dog' object has no attribute 'envelhce'"
     ]
    }
   ],
   "source": [
    "#erro porque não foi definido o parametro self\n",
    "dog.envelhce()"
   ]
  },
  {
   "cell_type": "code",
   "execution_count": 76,
   "id": "47a36e77-de9c-4de0-9bfc-e6d003b1591e",
   "metadata": {
    "tags": []
   },
   "outputs": [],
   "source": [
    "dog.envelhecer()"
   ]
  },
  {
   "cell_type": "code",
   "execution_count": 47,
   "id": "bf5976e2-2b23-4e97-983c-a71e7eec3f34",
   "metadata": {
    "tags": []
   },
   "outputs": [
    {
     "name": "stdout",
     "output_type": "stream",
     "text": [
      "10\n",
      "lab\n"
     ]
    }
   ],
   "source": [
    "print(dog.idade)\n",
    "print(dog.raca)"
   ]
  },
  {
   "cell_type": "code",
   "execution_count": 48,
   "id": "9f9547b7-02c5-4ab5-b1eb-9a286085acc0",
   "metadata": {
    "tags": []
   },
   "outputs": [
    {
     "name": "stdout",
     "output_type": "stream",
     "text": [
      "10\n",
      "huskie\n"
     ]
    }
   ],
   "source": [
    "print(dog2.idade)\n",
    "print(dog2.raca)"
   ]
  },
  {
   "cell_type": "markdown",
   "id": "48856f96-c162-4e59-864b-20621704d553",
   "metadata": {},
   "source": [
    "## Circulo"
   ]
  },
  {
   "cell_type": "code",
   "execution_count": 98,
   "id": "00709ac4-6b03-4696-a862-0f86ef9531f4",
   "metadata": {
    "tags": []
   },
   "outputs": [],
   "source": [
    "class Circle:\n",
    "    def __init__(self, raio=1):\n",
    "        self.raio = raio\n",
    "    \n",
    "    def calcula_area(self):\n",
    "        return self.raio * self.raio * 3.14\n",
    "    \n",
    "    def retorna_raio(self):\n",
    "        return self.raio"
   ]
  },
  {
   "cell_type": "code",
   "execution_count": 99,
   "id": "0d10d0b0-a700-455e-84fd-0d43134fc9ce",
   "metadata": {
    "tags": []
   },
   "outputs": [],
   "source": [
    "c1 = Circle()\n",
    "c2 = Circle(2)"
   ]
  },
  {
   "cell_type": "code",
   "execution_count": 100,
   "id": "26182ad6-bd3e-43de-8c3f-1906c8dcccac",
   "metadata": {
    "tags": []
   },
   "outputs": [
    {
     "data": {
      "text/plain": [
       "1"
      ]
     },
     "execution_count": 100,
     "metadata": {},
     "output_type": "execute_result"
    }
   ],
   "source": [
    "c1.raio"
   ]
  },
  {
   "cell_type": "code",
   "execution_count": 101,
   "id": "073b1c36-7d66-41b7-89c4-7a832964e260",
   "metadata": {
    "tags": []
   },
   "outputs": [
    {
     "data": {
      "text/plain": [
       "2"
      ]
     },
     "execution_count": 101,
     "metadata": {},
     "output_type": "execute_result"
    }
   ],
   "source": [
    "c2.raio"
   ]
  },
  {
   "cell_type": "code",
   "execution_count": 102,
   "id": "64339d53-45f3-42a9-a4f5-83971c1d356d",
   "metadata": {
    "tags": []
   },
   "outputs": [
    {
     "data": {
      "text/plain": [
       "12.56"
      ]
     },
     "execution_count": 102,
     "metadata": {},
     "output_type": "execute_result"
    }
   ],
   "source": [
    "c2.calcula_area()"
   ]
  },
  {
   "cell_type": "code",
   "execution_count": 103,
   "id": "d9e74c65-4da2-49e6-9e0d-91b85e4eb292",
   "metadata": {
    "tags": []
   },
   "outputs": [
    {
     "data": {
      "text/plain": [
       "3.14"
      ]
     },
     "execution_count": 103,
     "metadata": {},
     "output_type": "execute_result"
    }
   ],
   "source": [
    "c1.calcula_area()"
   ]
  },
  {
   "cell_type": "code",
   "execution_count": 106,
   "id": "30ba8a9a-9807-4884-8ec3-54365495d3e3",
   "metadata": {
    "tags": []
   },
   "outputs": [
    {
     "data": {
      "text/plain": [
       "1"
      ]
     },
     "execution_count": 106,
     "metadata": {},
     "output_type": "execute_result"
    }
   ],
   "source": [
    "c1.retorna_raio()"
   ]
  },
  {
   "cell_type": "code",
   "execution_count": null,
   "id": "5dd40c15-ab1d-4d93-bb12-6d254edae8ef",
   "metadata": {},
   "outputs": [],
   "source": []
  }
 ],
 "metadata": {
  "kernelspec": {
   "display_name": "Python 3 (ipykernel)",
   "language": "python",
   "name": "python3"
  },
  "language_info": {
   "codemirror_mode": {
    "name": "ipython",
    "version": 3
   },
   "file_extension": ".py",
   "mimetype": "text/x-python",
   "name": "python",
   "nbconvert_exporter": "python",
   "pygments_lexer": "ipython3",
   "version": "3.11.5"
  }
 },
 "nbformat": 4,
 "nbformat_minor": 5
}
