{
 "cells": [
  {
   "cell_type": "markdown",
   "id": "d436e25e-52df-4df4-ac92-0559ed8e8082",
   "metadata": {},
   "source": [
    "## Herança"
   ]
  },
  {
   "cell_type": "code",
   "execution_count": 35,
   "id": "87403257-080b-4ebe-b036-b4d73554545c",
   "metadata": {
    "tags": []
   },
   "outputs": [],
   "source": [
    "class Animal:\n",
    "    def __init__(self):\n",
    "        print(\"animal criado\")\n",
    "    \n",
    "    def quem_sou_eu(self):\n",
    "            print(\"eu sou um animal\")\n",
    "            \n",
    "    def comer(self):\n",
    "        print(\"comendo\")\n",
    "    \n",
    "class Cachorro(Animal):\n",
    "    def __init__(self):\n",
    "        Animal.__init__(self)\n",
    "        print(\"eu sou um cachorro\")\n",
    "    \n",
    "    def quem_sou_eu(self):\n",
    "        print(\"eu sou um cachorro\")\n",
    "        \n",
    "class Cachorro2(Animal):\n",
    "    def __init__(self):\n",
    "        pass\n",
    "    \n",
    "    def quem_sou_eu(self):\n",
    "        print(\"eu sou um cachorro\")"
   ]
  },
  {
   "cell_type": "code",
   "execution_count": 36,
   "id": "95791de6-ffbb-4daa-9a29-f8c3f22405e3",
   "metadata": {
    "tags": []
   },
   "outputs": [
    {
     "name": "stdout",
     "output_type": "stream",
     "text": [
      "animal criado\n"
     ]
    }
   ],
   "source": [
    "animal = Animal()"
   ]
  },
  {
   "cell_type": "code",
   "execution_count": 37,
   "id": "e2f8448b-507e-42f6-ab90-95b842fc3316",
   "metadata": {
    "tags": []
   },
   "outputs": [
    {
     "name": "stdout",
     "output_type": "stream",
     "text": [
      "eu sou um animal\n"
     ]
    }
   ],
   "source": [
    "animal.quem_sou_eu()"
   ]
  },
  {
   "cell_type": "code",
   "execution_count": 46,
   "id": "643bcdc3-e4ff-4a65-8bc0-06b3b680314f",
   "metadata": {
    "tags": []
   },
   "outputs": [
    {
     "name": "stdout",
     "output_type": "stream",
     "text": [
      "animal criado\n",
      "eu sou um cachorro\n"
     ]
    }
   ],
   "source": [
    "## repare que a class cachorro ocoreu a instancia da class Animal, por esse motivo ocorreu os dois prints\n",
    "dog = Cachorro()"
   ]
  },
  {
   "cell_type": "code",
   "execution_count": 39,
   "id": "8546da5d-941f-4376-a54f-6a6ed58f5502",
   "metadata": {
    "tags": []
   },
   "outputs": [
    {
     "name": "stdout",
     "output_type": "stream",
     "text": [
      "eu sou um cachorro\n"
     ]
    }
   ],
   "source": [
    "dog.quem_sou_eu()"
   ]
  },
  {
   "cell_type": "code",
   "execution_count": 44,
   "id": "459658ca-c456-4662-bb0a-cdf9730ca626",
   "metadata": {
    "tags": []
   },
   "outputs": [],
   "source": [
    "## repare que o dog2 não imprimi a msg quando é instanciado \n",
    "dog2 = Cachorro2()"
   ]
  },
  {
   "cell_type": "code",
   "execution_count": 45,
   "id": "14f3047a-ff1f-4726-899d-3ccc5c369b64",
   "metadata": {
    "tags": []
   },
   "outputs": [
    {
     "name": "stdout",
     "output_type": "stream",
     "text": [
      "eu sou um cachorro\n"
     ]
    }
   ],
   "source": [
    "dog2.quem_sou_eu()"
   ]
  },
  {
   "cell_type": "code",
   "execution_count": null,
   "id": "2203baf8-a660-4343-b004-449e296c8f80",
   "metadata": {},
   "outputs": [],
   "source": []
  },
  {
   "cell_type": "code",
   "execution_count": null,
   "id": "b07c8dc8-e3c8-4cdc-b2b3-2f6c776776c1",
   "metadata": {},
   "outputs": [],
   "source": []
  }
 ],
 "metadata": {
  "kernelspec": {
   "display_name": "Python 3 (ipykernel)",
   "language": "python",
   "name": "python3"
  },
  "language_info": {
   "codemirror_mode": {
    "name": "ipython",
    "version": 3
   },
   "file_extension": ".py",
   "mimetype": "text/x-python",
   "name": "python",
   "nbconvert_exporter": "python",
   "pygments_lexer": "ipython3",
   "version": "3.11.5"
  }
 },
 "nbformat": 4,
 "nbformat_minor": 5
}
