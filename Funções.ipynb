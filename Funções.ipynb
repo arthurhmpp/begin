{
 "cells": [
  {
   "cell_type": "markdown",
   "id": "885c212a-069c-4706-89b4-00be7d86b51a",
   "metadata": {},
   "source": [
    "### Funções"
   ]
  },
  {
   "cell_type": "code",
   "execution_count": 1,
   "id": "0c77b7dd-9ec0-4087-bbf0-d5dae858f70b",
   "metadata": {
    "tags": []
   },
   "outputs": [
    {
     "data": {
      "text/plain": [
       "6"
      ]
     },
     "execution_count": 1,
     "metadata": {},
     "output_type": "execute_result"
    }
   ],
   "source": [
    "len(\"string\")"
   ]
  },
  {
   "cell_type": "code",
   "execution_count": 2,
   "id": "6ccd3a72-3d7d-4790-954e-77de29ad2635",
   "metadata": {
    "tags": []
   },
   "outputs": [
    {
     "data": {
      "text/plain": [
       "3"
      ]
     },
     "execution_count": 2,
     "metadata": {},
     "output_type": "execute_result"
    }
   ],
   "source": [
    "len([1, 2, 3])"
   ]
  },
  {
   "cell_type": "code",
   "execution_count": 3,
   "id": "dbdcfbd7-2a4b-4ee1-8397-11425956f99a",
   "metadata": {
    "tags": []
   },
   "outputs": [
    {
     "data": {
      "text/plain": [
       "range(0, 10)"
      ]
     },
     "execution_count": 3,
     "metadata": {},
     "output_type": "execute_result"
    }
   ],
   "source": [
    "range(10)"
   ]
  },
  {
   "cell_type": "markdown",
   "id": "3ea9aacb-e8a3-403f-ad54-d88419288b31",
   "metadata": {},
   "source": [
    "## Criando uma função"
   ]
  },
  {
   "cell_type": "code",
   "execution_count": 13,
   "id": "c75308a0-f5eb-4e55-8b3a-90271f60c7d1",
   "metadata": {
    "tags": []
   },
   "outputs": [],
   "source": [
    "def diga_ola(nome):\n",
    "    a = 1\n",
    "    print(\"Ola!!, {}\".format(nome))"
   ]
  },
  {
   "cell_type": "code",
   "execution_count": 15,
   "id": "172c74e5-c361-45b7-8c11-341f333ca105",
   "metadata": {
    "tags": []
   },
   "outputs": [
    {
     "name": "stdout",
     "output_type": "stream",
     "text": [
      "Ola!!, arthur\n"
     ]
    }
   ],
   "source": [
    "diga_ola(\"arthur\")"
   ]
  },
  {
   "cell_type": "code",
   "execution_count": 21,
   "id": "a0ff1bd9-1a9d-4b72-bde6-2386f17bbfd1",
   "metadata": {
    "tags": []
   },
   "outputs": [],
   "source": [
    "def gerador_de_numeros_impares(x):\n",
    "    return [i for i in range(x) if i % 2 == 1]"
   ]
  },
  {
   "cell_type": "code",
   "execution_count": 25,
   "id": "652e110b-8533-46af-b6b1-7edee7a1145f",
   "metadata": {
    "tags": []
   },
   "outputs": [
    {
     "data": {
      "text/plain": [
       "[1, 3, 5, 7, 9]"
      ]
     },
     "execution_count": 25,
     "metadata": {},
     "output_type": "execute_result"
    }
   ],
   "source": [
    "gerador_de_numeros_impares(11)"
   ]
  },
  {
   "cell_type": "code",
   "execution_count": 26,
   "id": "00c2e7f3-94b1-4122-9de6-818c69f15788",
   "metadata": {
    "tags": []
   },
   "outputs": [],
   "source": [
    "a = gerador_de_numeros_impares(11)"
   ]
  },
  {
   "cell_type": "code",
   "execution_count": 27,
   "id": "1f53c396-3082-46fa-b128-c4e51327a352",
   "metadata": {
    "tags": []
   },
   "outputs": [
    {
     "data": {
      "text/plain": [
       "[1, 3, 5, 7, 9]"
      ]
     },
     "execution_count": 27,
     "metadata": {},
     "output_type": "execute_result"
    }
   ],
   "source": [
    "a"
   ]
  },
  {
   "cell_type": "code",
   "execution_count": 28,
   "id": "a2f29e3c-c139-4b27-94ac-abeff73ec902",
   "metadata": {
    "tags": []
   },
   "outputs": [
    {
     "data": {
      "text/plain": [
       "list"
      ]
     },
     "execution_count": 28,
     "metadata": {},
     "output_type": "execute_result"
    }
   ],
   "source": [
    "type(gerador_de_numeros_impares(11))"
   ]
  },
  {
   "cell_type": "code",
   "execution_count": 29,
   "id": "753cbe71-463a-4fba-8cae-4e35eb19c813",
   "metadata": {
    "tags": []
   },
   "outputs": [
    {
     "data": {
      "text/plain": [
       "function"
      ]
     },
     "execution_count": 29,
     "metadata": {},
     "output_type": "execute_result"
    }
   ],
   "source": [
    "type(gerador_de_numeros_impares)"
   ]
  },
  {
   "cell_type": "code",
   "execution_count": 31,
   "id": "34bb12cf-87e0-4b52-9c22-1beafc40c57a",
   "metadata": {
    "tags": []
   },
   "outputs": [
    {
     "data": {
      "text/plain": [
       "9"
      ]
     },
     "execution_count": 31,
     "metadata": {},
     "output_type": "execute_result"
    }
   ],
   "source": [
    "gerador_de_numeros_impares(11).pop()"
   ]
  },
  {
   "cell_type": "code",
   "execution_count": 33,
   "id": "4e2392d8-5c69-4f4e-940c-ba9e4f442be3",
   "metadata": {
    "tags": []
   },
   "outputs": [],
   "source": [
    "def add_num(num1, num2):\n",
    "    return num1+num2"
   ]
  },
  {
   "cell_type": "code",
   "execution_count": 34,
   "id": "6f600d1e-aeb6-412a-83f9-e10740583158",
   "metadata": {
    "tags": []
   },
   "outputs": [
    {
     "data": {
      "text/plain": [
       "30"
      ]
     },
     "execution_count": 34,
     "metadata": {},
     "output_type": "execute_result"
    }
   ],
   "source": [
    "add_num(10,20)"
   ]
  },
  {
   "cell_type": "code",
   "execution_count": null,
   "id": "70c9986a-6ab3-40f8-b037-bd66f4348f25",
   "metadata": {},
   "outputs": [],
   "source": []
  }
 ],
 "metadata": {
  "kernelspec": {
   "display_name": "Python 3 (ipykernel)",
   "language": "python",
   "name": "python3"
  },
  "language_info": {
   "codemirror_mode": {
    "name": "ipython",
    "version": 3
   },
   "file_extension": ".py",
   "mimetype": "text/x-python",
   "name": "python",
   "nbconvert_exporter": "python",
   "pygments_lexer": "ipython3",
   "version": "3.11.5"
  }
 },
 "nbformat": 4,
 "nbformat_minor": 5
}
