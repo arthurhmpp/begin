{
 "cells": [
  {
   "cell_type": "markdown",
   "id": "186ae9b2-9280-4c1c-8c17-282fff450fdb",
   "metadata": {},
   "source": [
    "## While"
   ]
  },
  {
   "cell_type": "code",
   "execution_count": 1,
   "id": "acbb63a0-7eb8-4983-8a36-9455c6c3e9b3",
   "metadata": {
    "tags": []
   },
   "outputs": [
    {
     "name": "stdout",
     "output_type": "stream",
     "text": [
      "O valor de x é: 0\n",
      "O valor de x é: 1\n",
      "O valor de x é: 2\n",
      "O valor de x é: 3\n",
      "O valor de x é: 4\n",
      "O valor de x é: 5\n",
      "O valor de x é: 6\n",
      "O valor de x é: 7\n",
      "O valor de x é: 8\n",
      "O valor de x é: 9\n",
      "concluido\n"
     ]
    }
   ],
   "source": [
    "x = 0\n",
    "\n",
    "while x < 10:\n",
    "    print(\"O valor de x é: {}\".format(x))\n",
    "    x+= 1\n",
    "else:\n",
    "    print(\"concluido\")"
   ]
  },
  {
   "cell_type": "code",
   "execution_count": 2,
   "id": "8b9c5b66-474b-418d-81c4-80060335cae4",
   "metadata": {
    "tags": []
   },
   "outputs": [
    {
     "name": "stdout",
     "output_type": "stream",
     "text": [
      "O valor de x é: 0\n",
      "O valor de x é: 1\n",
      "O valor de x é: 2\n",
      "O valor de x é: 3\n",
      "O valor de x é: 4\n",
      "O valor de x é: 5\n",
      "O valor de x é: 6\n",
      "O valor de x é: 7\n",
      "O valor de x é: 8\n",
      "O valor de x é: 9\n",
      "concluido\n"
     ]
    }
   ],
   "source": [
    "x = 0\n",
    "\n",
    "while x < 10:\n",
    "    print(\"O valor de x é: {}\".format(x))\n",
    "    x+= 1\n",
    "    continue\n",
    "    print(\"foi\")\n",
    "else:\n",
    "    print(\"concluido\")"
   ]
  },
  {
   "cell_type": "code",
   "execution_count": 3,
   "id": "d96d00cd-3d29-4768-8857-856bdc6a51bc",
   "metadata": {
    "tags": []
   },
   "outputs": [
    {
     "name": "stdout",
     "output_type": "stream",
     "text": [
      "O valor de x é: 0\n",
      "concluido\n",
      "1\n"
     ]
    }
   ],
   "source": [
    "x = 0\n",
    "\n",
    "while x < 10:\n",
    "    print(\"O valor de x é: {}\".format(x))\n",
    "    x+= 1\n",
    "    break\n",
    "    print(\"foi\")\n",
    "\n",
    "print(\"concluido\")\n",
    "print(x)"
   ]
  },
  {
   "cell_type": "code",
   "execution_count": null,
   "id": "e53fd2ec-d771-47bf-8c5f-8edc3d5884c8",
   "metadata": {},
   "outputs": [],
   "source": []
  }
 ],
 "metadata": {
  "kernelspec": {
   "display_name": "Python 3 (ipykernel)",
   "language": "python",
   "name": "python3"
  },
  "language_info": {
   "codemirror_mode": {
    "name": "ipython",
    "version": 3
   },
   "file_extension": ".py",
   "mimetype": "text/x-python",
   "name": "python",
   "nbconvert_exporter": "python",
   "pygments_lexer": "ipython3",
   "version": "3.11.5"
  }
 },
 "nbformat": 4,
 "nbformat_minor": 5
}
