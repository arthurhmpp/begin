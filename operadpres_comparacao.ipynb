{
 "cells": [
  {
   "cell_type": "markdown",
   "id": "427b59d9-dca1-49c0-87ac-d2c69fe30759",
   "metadata": {},
   "source": [
    "## Operadores de comparação"
   ]
  },
  {
   "cell_type": "markdown",
   "id": "49258ccf-cc44-404e-881f-dfa54680e709",
   "metadata": {},
   "source": [
    "## igualdade"
   ]
  },
  {
   "cell_type": "code",
   "execution_count": 87,
   "id": "fd849004-e95f-4768-a8af-e0ad62874935",
   "metadata": {
    "tags": []
   },
   "outputs": [
    {
     "data": {
      "text/plain": [
       "True"
      ]
     },
     "execution_count": 87,
     "metadata": {},
     "output_type": "execute_result"
    }
   ],
   "source": [
    "2 == 2"
   ]
  },
  {
   "cell_type": "code",
   "execution_count": 88,
   "id": "5c66781f-c87b-40b4-9477-3a5214121add",
   "metadata": {
    "tags": []
   },
   "outputs": [
    {
     "data": {
      "text/plain": [
       "False"
      ]
     },
     "execution_count": 88,
     "metadata": {},
     "output_type": "execute_result"
    }
   ],
   "source": [
    "1 == 0"
   ]
  },
  {
   "cell_type": "markdown",
   "id": "b48000cf-3bbf-49bb-abdb-8c99ae8ac8af",
   "metadata": {
    "tags": []
   },
   "source": [
    "## Desigualdade"
   ]
  },
  {
   "cell_type": "code",
   "execution_count": 90,
   "id": "db96d36a-c13b-46da-9cb5-721fa0faca3c",
   "metadata": {
    "tags": []
   },
   "outputs": [
    {
     "data": {
      "text/plain": [
       "False"
      ]
     },
     "execution_count": 90,
     "metadata": {},
     "output_type": "execute_result"
    }
   ],
   "source": [
    "2 != 2"
   ]
  },
  {
   "cell_type": "code",
   "execution_count": 91,
   "id": "f6176040-d808-4ae7-8e25-2369c2c5219a",
   "metadata": {
    "tags": []
   },
   "outputs": [
    {
     "data": {
      "text/plain": [
       "True"
      ]
     },
     "execution_count": 91,
     "metadata": {},
     "output_type": "execute_result"
    }
   ],
   "source": [
    "2 != 1"
   ]
  },
  {
   "cell_type": "markdown",
   "id": "f1ce740d-4697-4416-8ae4-a049fec84a6e",
   "metadata": {
    "tags": []
   },
   "source": [
    "## Maior que"
   ]
  },
  {
   "cell_type": "code",
   "execution_count": 94,
   "id": "e420fc92-4f6c-4db7-b09c-cd5526fdd714",
   "metadata": {
    "tags": []
   },
   "outputs": [
    {
     "data": {
      "text/plain": [
       "False"
      ]
     },
     "execution_count": 94,
     "metadata": {},
     "output_type": "execute_result"
    }
   ],
   "source": [
    "2 > 2"
   ]
  },
  {
   "cell_type": "code",
   "execution_count": 96,
   "id": "dee9a5ec-75c4-4ecd-a0aa-cca21055f8f0",
   "metadata": {
    "tags": []
   },
   "outputs": [
    {
     "data": {
      "text/plain": [
       "True"
      ]
     },
     "execution_count": 96,
     "metadata": {},
     "output_type": "execute_result"
    }
   ],
   "source": [
    "2 > 1"
   ]
  },
  {
   "cell_type": "markdown",
   "id": "5004946a-fcc0-4651-a138-1c4c6ed002fa",
   "metadata": {},
   "source": [
    "## Menor que"
   ]
  },
  {
   "cell_type": "code",
   "execution_count": 97,
   "id": "a87fcf2a-ba73-4326-9e6b-8a8246fa0371",
   "metadata": {
    "tags": []
   },
   "outputs": [
    {
     "data": {
      "text/plain": [
       "True"
      ]
     },
     "execution_count": 97,
     "metadata": {},
     "output_type": "execute_result"
    }
   ],
   "source": [
    "2 < 4"
   ]
  },
  {
   "cell_type": "code",
   "execution_count": 98,
   "id": "97ad4580-d428-45e2-975f-55a20032aafe",
   "metadata": {
    "tags": []
   },
   "outputs": [
    {
     "data": {
      "text/plain": [
       "False"
      ]
     },
     "execution_count": 98,
     "metadata": {},
     "output_type": "execute_result"
    }
   ],
   "source": [
    "5 < 2"
   ]
  },
  {
   "cell_type": "markdown",
   "id": "b8cadd1b-43c5-4715-8d2f-02bd83f5a071",
   "metadata": {},
   "source": [
    "## Maior que ou igual que "
   ]
  },
  {
   "cell_type": "code",
   "execution_count": 99,
   "id": "174c0277-0adf-43fb-952d-93d3a62906b0",
   "metadata": {
    "tags": []
   },
   "outputs": [
    {
     "data": {
      "text/plain": [
       "True"
      ]
     },
     "execution_count": 99,
     "metadata": {},
     "output_type": "execute_result"
    }
   ],
   "source": [
    "2 >= 2"
   ]
  },
  {
   "cell_type": "code",
   "execution_count": 101,
   "id": "d9e55790-d7d5-4270-9d99-51e3927bb06f",
   "metadata": {
    "tags": []
   },
   "outputs": [
    {
     "data": {
      "text/plain": [
       "False"
      ]
     },
     "execution_count": 101,
     "metadata": {},
     "output_type": "execute_result"
    }
   ],
   "source": [
    "2 >= 3"
   ]
  },
  {
   "cell_type": "markdown",
   "id": "48177a66-51be-4678-a746-8eea5e5f510a",
   "metadata": {},
   "source": [
    "## Menor que ou igual que"
   ]
  },
  {
   "cell_type": "code",
   "execution_count": 102,
   "id": "383dea47-3675-4fe4-9a48-ad3f24cd146c",
   "metadata": {
    "tags": []
   },
   "outputs": [
    {
     "data": {
      "text/plain": [
       "True"
      ]
     },
     "execution_count": 102,
     "metadata": {},
     "output_type": "execute_result"
    }
   ],
   "source": [
    "2 <= 2"
   ]
  },
  {
   "cell_type": "code",
   "execution_count": 104,
   "id": "c54ac8d9-418f-4005-9c6c-97334383820c",
   "metadata": {
    "tags": []
   },
   "outputs": [
    {
     "data": {
      "text/plain": [
       "False"
      ]
     },
     "execution_count": 104,
     "metadata": {},
     "output_type": "execute_result"
    }
   ],
   "source": [
    "2 <= 1"
   ]
  }
 ],
 "metadata": {
  "kernelspec": {
   "display_name": "Python 3 (ipykernel)",
   "language": "python",
   "name": "python3"
  },
  "language_info": {
   "codemirror_mode": {
    "name": "ipython",
    "version": 3
   },
   "file_extension": ".py",
   "mimetype": "text/x-python",
   "name": "python",
   "nbconvert_exporter": "python",
   "pygments_lexer": "ipython3",
   "version": "3.11.5"
  }
 },
 "nbformat": 4,
 "nbformat_minor": 5
}
