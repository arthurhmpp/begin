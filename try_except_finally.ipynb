{
 "cells": [
  {
   "cell_type": "markdown",
   "id": "11fe84b9-c7fd-404b-a653-fb968dcfb5ae",
   "metadata": {},
   "source": [
    "## Try, Except e Finally"
   ]
  },
  {
   "cell_type": "code",
   "execution_count": 1,
   "id": "e90f4029-3b72-464b-87a2-2335a88a3bef",
   "metadata": {
    "tags": []
   },
   "outputs": [
    {
     "ename": "TypeError",
     "evalue": "can only concatenate list (not \"int\") to list",
     "output_type": "error",
     "traceback": [
      "\u001b[0;31m---------------------------------------------------------------------------\u001b[0m",
      "\u001b[0;31mTypeError\u001b[0m                                 Traceback (most recent call last)",
      "Cell \u001b[0;32mIn[1], line 4\u001b[0m\n\u001b[1;32m      1\u001b[0m x \u001b[38;5;241m=\u001b[39m [\u001b[38;5;241m1\u001b[39m, \u001b[38;5;241m2\u001b[39m, \u001b[38;5;241m3\u001b[39m]\n\u001b[1;32m      2\u001b[0m y \u001b[38;5;241m=\u001b[39m \u001b[38;5;241m1\u001b[39m\n\u001b[0;32m----> 4\u001b[0m x \u001b[38;5;241m+\u001b[39m y\n",
      "\u001b[0;31mTypeError\u001b[0m: can only concatenate list (not \"int\") to list"
     ]
    }
   ],
   "source": [
    "x = [1, 2, 3]\n",
    "y = 1\n",
    "\n",
    "x + y"
   ]
  },
  {
   "cell_type": "code",
   "execution_count": 3,
   "id": "ee9000bb-4ade-4a55-9c36-9a201a510e04",
   "metadata": {
    "tags": []
   },
   "outputs": [
    {
     "name": "stdout",
     "output_type": "stream",
     "text": [
      "Erro\n",
      "Ola\n"
     ]
    }
   ],
   "source": [
    "x = [1, 2, 3]\n",
    "y = 1\n",
    "\n",
    "try:\n",
    "    x + y\n",
    "    x = 1\n",
    "    y = 1\n",
    "except:\n",
    "    print(\"Erro\")\n",
    "    \n",
    "print(\"Ola\")"
   ]
  },
  {
   "cell_type": "code",
   "execution_count": 4,
   "id": "fe7b6349-29ec-43ee-b578-bbd12d9799da",
   "metadata": {
    "tags": []
   },
   "outputs": [
    {
     "name": "stdout",
     "output_type": "stream",
     "text": [
      "Erro: can only concatenate list (not \"int\") to list\n",
      "Ola\n"
     ]
    }
   ],
   "source": [
    "x = [1, 2, 3]\n",
    "y = 1\n",
    "\n",
    "try:\n",
    "    x + y\n",
    "    x = 1\n",
    "    y = 1\n",
    "except Exception as e:\n",
    "    print(\"Erro: {}\".format(e))\n",
    "    \n",
    "print(\"Ola\")"
   ]
  },
  {
   "cell_type": "code",
   "execution_count": 6,
   "id": "bd7b7fba-2a72-4818-b234-e7c5eaa27c5c",
   "metadata": {
    "tags": []
   },
   "outputs": [
    {
     "name": "stdout",
     "output_type": "stream",
     "text": [
      "Ola\n"
     ]
    }
   ],
   "source": [
    "x = [1, 2, 3]\n",
    "y = 1\n",
    "\n",
    "try:\n",
    "    # x + y\n",
    "    x = 1\n",
    "    y = 1\n",
    "except Exception as e:\n",
    "    print(\"Erro: {}\".format(e))\n",
    "finally:    \n",
    "    print(\"Ola\")"
   ]
  },
  {
   "cell_type": "code",
   "execution_count": null,
   "id": "51bca9b9-d68f-4412-907b-e5ec842f5342",
   "metadata": {},
   "outputs": [],
   "source": []
  }
 ],
 "metadata": {
  "kernelspec": {
   "display_name": "Python 3 (ipykernel)",
   "language": "python",
   "name": "python3"
  },
  "language_info": {
   "codemirror_mode": {
    "name": "ipython",
    "version": 3
   },
   "file_extension": ".py",
   "mimetype": "text/x-python",
   "name": "python",
   "nbconvert_exporter": "python",
   "pygments_lexer": "ipython3",
   "version": "3.11.5"
  }
 },
 "nbformat": 4,
 "nbformat_minor": 5
}
