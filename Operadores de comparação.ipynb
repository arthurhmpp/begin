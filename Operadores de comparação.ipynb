{
 "cells": [
  {
   "cell_type": "markdown",
   "id": "bd7dadc4-c58d-440e-befa-f0d393f2d836",
   "metadata": {},
   "source": [
    "## Operadores de comparação em cadeia"
   ]
  },
  {
   "cell_type": "code",
   "execution_count": 1,
   "id": "e90c0f08-a744-4056-8be0-f83355a59dcc",
   "metadata": {
    "tags": []
   },
   "outputs": [
    {
     "data": {
      "text/plain": [
       "False"
      ]
     },
     "execution_count": 1,
     "metadata": {},
     "output_type": "execute_result"
    }
   ],
   "source": [
    "1 < 2 > 3"
   ]
  },
  {
   "cell_type": "code",
   "execution_count": 2,
   "id": "c0470d46-ec42-408b-a7de-d654c2bcb34b",
   "metadata": {
    "tags": []
   },
   "outputs": [
    {
     "data": {
      "text/plain": [
       "False"
      ]
     },
     "execution_count": 2,
     "metadata": {},
     "output_type": "execute_result"
    }
   ],
   "source": [
    "1 > 2 and 2 > 3"
   ]
  },
  {
   "cell_type": "code",
   "execution_count": 4,
   "id": "06789551-8d98-4e1c-850e-aae581a27a3f",
   "metadata": {
    "tags": []
   },
   "outputs": [
    {
     "data": {
      "text/plain": [
       "False"
      ]
     },
     "execution_count": 4,
     "metadata": {},
     "output_type": "execute_result"
    }
   ],
   "source": [
    "1 < 2 and 2 > 3"
   ]
  },
  {
   "cell_type": "code",
   "execution_count": 7,
   "id": "e40ea244-9dd2-4b1e-b7e1-1acb7ec4e367",
   "metadata": {
    "tags": []
   },
   "outputs": [
    {
     "data": {
      "text/plain": [
       "True"
      ]
     },
     "execution_count": 7,
     "metadata": {},
     "output_type": "execute_result"
    }
   ],
   "source": [
    "1 < 2 or 2 > 3"
   ]
  },
  {
   "cell_type": "code",
   "execution_count": 9,
   "id": "c71a45d3-7d79-45ef-b4c5-b2411e6bc400",
   "metadata": {
    "tags": []
   },
   "outputs": [
    {
     "data": {
      "text/plain": [
       "True"
      ]
     },
     "execution_count": 9,
     "metadata": {},
     "output_type": "execute_result"
    }
   ],
   "source": [
    "(1 < 5 or 2 > 3) and (1 < 2 or 2 > 5)"
   ]
  },
  {
   "cell_type": "code",
   "execution_count": null,
   "id": "da2e1092-652c-4758-9094-989c7591119c",
   "metadata": {},
   "outputs": [],
   "source": []
  }
 ],
 "metadata": {
  "kernelspec": {
   "display_name": "Python 3 (ipykernel)",
   "language": "python",
   "name": "python3"
  },
  "language_info": {
   "codemirror_mode": {
    "name": "ipython",
    "version": 3
   },
   "file_extension": ".py",
   "mimetype": "text/x-python",
   "name": "python",
   "nbconvert_exporter": "python",
   "pygments_lexer": "ipython3",
   "version": "3.11.5"
  }
 },
 "nbformat": 4,
 "nbformat_minor": 5
}
