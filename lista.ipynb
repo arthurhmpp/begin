{
 "cells": [
  {
   "cell_type": "markdown",
   "id": "609e0446-bcb6-4f7f-b2c9-df1d4f0ef741",
   "metadata": {
    "tags": []
   },
   "source": [
    "## Lista"
   ]
  },
  {
   "cell_type": "code",
   "execution_count": 1,
   "id": "f46c21c6-6440-4f62-82ec-999aa99c4378",
   "metadata": {
    "tags": []
   },
   "outputs": [],
   "source": [
    "minha_lista = [1, 2, 3]"
   ]
  },
  {
   "cell_type": "code",
   "execution_count": 2,
   "id": "f39a6c63-8d04-4123-b273-2d8fdf302680",
   "metadata": {
    "tags": []
   },
   "outputs": [
    {
     "data": {
      "text/plain": [
       "[1, 2, 3]"
      ]
     },
     "execution_count": 2,
     "metadata": {},
     "output_type": "execute_result"
    }
   ],
   "source": [
    "minha_lista"
   ]
  },
  {
   "cell_type": "code",
   "execution_count": 4,
   "id": "4f0a7c1a-74d3-45bf-b768-3fdd03dcbb1e",
   "metadata": {
    "tags": []
   },
   "outputs": [
    {
     "data": {
      "text/plain": [
       "list"
      ]
     },
     "execution_count": 4,
     "metadata": {},
     "output_type": "execute_result"
    }
   ],
   "source": [
    "type(minha_lista)"
   ]
  },
  {
   "cell_type": "code",
   "execution_count": 6,
   "id": "fe3ce404-8320-4b27-8290-a1e29da3f38e",
   "metadata": {
    "tags": []
   },
   "outputs": [
    {
     "data": {
      "text/plain": [
       "3"
      ]
     },
     "execution_count": 6,
     "metadata": {},
     "output_type": "execute_result"
    }
   ],
   "source": [
    "minha_lista[2]"
   ]
  },
  {
   "cell_type": "code",
   "execution_count": 7,
   "id": "9a3c86c6-533b-489b-b7ef-18adc604e4e9",
   "metadata": {
    "tags": []
   },
   "outputs": [
    {
     "data": {
      "text/plain": [
       "3"
      ]
     },
     "execution_count": 7,
     "metadata": {},
     "output_type": "execute_result"
    }
   ],
   "source": [
    "minha_lista[-1]"
   ]
  },
  {
   "cell_type": "code",
   "execution_count": 9,
   "id": "abe0927d-23cd-438d-a50c-848aa05f037f",
   "metadata": {
    "tags": []
   },
   "outputs": [
    {
     "data": {
      "text/plain": [
       "[2]"
      ]
     },
     "execution_count": 9,
     "metadata": {},
     "output_type": "execute_result"
    }
   ],
   "source": [
    "minha_lista[1:-1]"
   ]
  },
  {
   "cell_type": "code",
   "execution_count": 10,
   "id": "31f8dbc0-1c9d-45a3-a635-917af9cadc5e",
   "metadata": {
    "tags": []
   },
   "outputs": [],
   "source": [
    "minha_lista2 = [1, 2, \"hello\", [1, 2, 3]]"
   ]
  },
  {
   "cell_type": "code",
   "execution_count": 13,
   "id": "cdeafa48-cc2b-4243-a6af-d351d7a55533",
   "metadata": {
    "tags": []
   },
   "outputs": [
    {
     "data": {
      "text/plain": [
       "[1, 2, 3]"
      ]
     },
     "execution_count": 13,
     "metadata": {},
     "output_type": "execute_result"
    }
   ],
   "source": [
    "minha_lista2[3]"
   ]
  },
  {
   "cell_type": "code",
   "execution_count": 14,
   "id": "3dfa03b2-dba0-4ad3-8971-8044dc7f06be",
   "metadata": {
    "tags": []
   },
   "outputs": [
    {
     "data": {
      "text/plain": [
       "[2, 3]"
      ]
     },
     "execution_count": 14,
     "metadata": {},
     "output_type": "execute_result"
    }
   ],
   "source": [
    "minha_lista2[3][1:]"
   ]
  },
  {
   "cell_type": "code",
   "execution_count": 15,
   "id": "a46cdf4d-0747-4260-baca-e6e8cbf85f6a",
   "metadata": {
    "tags": []
   },
   "outputs": [
    {
     "data": {
      "text/plain": [
       "'HELLO'"
      ]
     },
     "execution_count": 15,
     "metadata": {},
     "output_type": "execute_result"
    }
   ],
   "source": [
    "minha_lista2[2].upper()"
   ]
  },
  {
   "cell_type": "code",
   "execution_count": 17,
   "id": "c3743808-4fed-4e52-b81b-3bdcbc7ef6cf",
   "metadata": {
    "tags": []
   },
   "outputs": [
    {
     "data": {
      "text/plain": [
       "[1, 2, 'hello', [1, 2, 3], 3]"
      ]
     },
     "execution_count": 17,
     "metadata": {},
     "output_type": "execute_result"
    }
   ],
   "source": [
    "minha_lista2 + [3]"
   ]
  },
  {
   "cell_type": "code",
   "execution_count": 18,
   "id": "b9ffdae8-09db-4b15-9842-921620f083ea",
   "metadata": {
    "tags": []
   },
   "outputs": [
    {
     "data": {
      "text/plain": [
       "[1, 2, 'hello', [1, 2, 3], 1, 2, 'hello', [1, 2, 3]]"
      ]
     },
     "execution_count": 18,
     "metadata": {},
     "output_type": "execute_result"
    }
   ],
   "source": [
    "minha_lista2 * 2"
   ]
  },
  {
   "cell_type": "code",
   "execution_count": null,
   "id": "5c8c52e4-35b5-485e-8511-b0b8ad783c90",
   "metadata": {},
   "outputs": [],
   "source": []
  }
 ],
 "metadata": {
  "kernelspec": {
   "display_name": "Python 3 (ipykernel)",
   "language": "python",
   "name": "python3"
  },
  "language_info": {
   "codemirror_mode": {
    "name": "ipython",
    "version": 3
   },
   "file_extension": ".py",
   "mimetype": "text/x-python",
   "name": "python",
   "nbconvert_exporter": "python",
   "pygments_lexer": "ipython3",
   "version": "3.11.5"
  }
 },
 "nbformat": 4,
 "nbformat_minor": 5
}
