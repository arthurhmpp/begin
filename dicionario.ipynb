{
 "cells": [
  {
   "cell_type": "markdown",
   "id": "43330799-b2ff-424a-9e38-c15e2d9a2534",
   "metadata": {},
   "source": [
    "## Dicionarios"
   ]
  },
  {
   "cell_type": "code",
   "execution_count": 40,
   "id": "9aa89313-d984-4cd2-ad9c-0c41a3df1394",
   "metadata": {
    "tags": []
   },
   "outputs": [],
   "source": [
    "meu_dicionario = {\"nome\": \"paulo\", \"idade\": 29, \"filhos\": [\"joão\", \"maria\"]}"
   ]
  },
  {
   "cell_type": "code",
   "execution_count": 41,
   "id": "32403381-c8bc-49d6-8421-874a5bf57702",
   "metadata": {
    "tags": []
   },
   "outputs": [
    {
     "data": {
      "text/plain": [
       "{'nome': 'paulo', 'idade': 29, 'filhos': ['joão', 'maria']}"
      ]
     },
     "execution_count": 41,
     "metadata": {},
     "output_type": "execute_result"
    }
   ],
   "source": [
    "meu_dicionario"
   ]
  },
  {
   "cell_type": "code",
   "execution_count": 42,
   "id": "493a9708-5053-4110-9841-d414ba37cf7c",
   "metadata": {
    "tags": []
   },
   "outputs": [
    {
     "data": {
      "text/plain": [
       "'paulo'"
      ]
     },
     "execution_count": 42,
     "metadata": {},
     "output_type": "execute_result"
    }
   ],
   "source": [
    "meu_dicionario[\"nome\"]"
   ]
  },
  {
   "cell_type": "code",
   "execution_count": 43,
   "id": "efa6d8b9-4aa0-44d5-931d-5e15dd845cc5",
   "metadata": {
    "tags": []
   },
   "outputs": [],
   "source": [
    "meu_dicionario[\"nome\"] = \"arthur\""
   ]
  },
  {
   "cell_type": "code",
   "execution_count": 45,
   "id": "712e91cf-26ce-42d4-9b48-3a8e53b5e681",
   "metadata": {
    "tags": []
   },
   "outputs": [
    {
     "data": {
      "text/plain": [
       "'arthur'"
      ]
     },
     "execution_count": 45,
     "metadata": {},
     "output_type": "execute_result"
    }
   ],
   "source": [
    "meu_dicionario[\"nome\"]"
   ]
  },
  {
   "cell_type": "code",
   "execution_count": 46,
   "id": "2a0a7a67-0c51-4978-b2b2-b1d9e1ca863c",
   "metadata": {
    "tags": []
   },
   "outputs": [],
   "source": [
    "meu_dicionario[\"cidade\"] = \"são paulo\""
   ]
  },
  {
   "cell_type": "code",
   "execution_count": 47,
   "id": "727258a2-a9b4-400b-89a8-a00c8712d478",
   "metadata": {
    "tags": []
   },
   "outputs": [
    {
     "data": {
      "text/plain": [
       "{'nome': 'arthur',\n",
       " 'idade': 29,\n",
       " 'filhos': ['joão', 'maria'],\n",
       " 'cidade': 'são paulo'}"
      ]
     },
     "execution_count": 47,
     "metadata": {},
     "output_type": "execute_result"
    }
   ],
   "source": [
    "meu_dicionario"
   ]
  },
  {
   "cell_type": "code",
   "execution_count": 49,
   "id": "ac0e6a54-7a8d-461e-aae7-f04c058fbd56",
   "metadata": {
    "tags": []
   },
   "outputs": [],
   "source": [
    "meu_dicionario[\"variavel aleatoria\"] = {\"a\": 1, \"b\": 2}"
   ]
  },
  {
   "cell_type": "code",
   "execution_count": 50,
   "id": "0bb75da7-cbe8-4eb0-8f77-518451641fec",
   "metadata": {
    "tags": []
   },
   "outputs": [
    {
     "data": {
      "text/plain": [
       "{'nome': 'arthur',\n",
       " 'idade': 29,\n",
       " 'filhos': ['joão', 'maria'],\n",
       " 'cidade': 'são paulo',\n",
       " 'variavel aleatoria': {'a': 1, 'b': 2}}"
      ]
     },
     "execution_count": 50,
     "metadata": {},
     "output_type": "execute_result"
    }
   ],
   "source": [
    "meu_dicionario"
   ]
  },
  {
   "cell_type": "code",
   "execution_count": 51,
   "id": "2de96aa6-6445-4400-afa1-ae9ace87e8e1",
   "metadata": {
    "tags": []
   },
   "outputs": [
    {
     "data": {
      "text/plain": [
       "dict_keys(['nome', 'idade', 'filhos', 'cidade', 'variavel aleatoria'])"
      ]
     },
     "execution_count": 51,
     "metadata": {},
     "output_type": "execute_result"
    }
   ],
   "source": [
    "meu_dicionario.keys()"
   ]
  },
  {
   "cell_type": "code",
   "execution_count": 52,
   "id": "949c7cfd-0a68-43eb-958f-2cbd694be2b1",
   "metadata": {
    "tags": []
   },
   "outputs": [
    {
     "data": {
      "text/plain": [
       "dict_items([('nome', 'arthur'), ('idade', 29), ('filhos', ['joão', 'maria']), ('cidade', 'são paulo'), ('variavel aleatoria', {'a': 1, 'b': 2})])"
      ]
     },
     "execution_count": 52,
     "metadata": {},
     "output_type": "execute_result"
    }
   ],
   "source": [
    "meu_dicionario.items()"
   ]
  },
  {
   "cell_type": "code",
   "execution_count": 53,
   "id": "c8dc104f-07bd-4b10-b820-db38211b46cd",
   "metadata": {
    "tags": []
   },
   "outputs": [
    {
     "data": {
      "text/plain": [
       "dict_values(['arthur', 29, ['joão', 'maria'], 'são paulo', {'a': 1, 'b': 2}])"
      ]
     },
     "execution_count": 53,
     "metadata": {},
     "output_type": "execute_result"
    }
   ],
   "source": [
    "meu_dicionario.values()"
   ]
  }
 ],
 "metadata": {
  "kernelspec": {
   "display_name": "Python 3 (ipykernel)",
   "language": "python",
   "name": "python3"
  },
  "language_info": {
   "codemirror_mode": {
    "name": "ipython",
    "version": 3
   },
   "file_extension": ".py",
   "mimetype": "text/x-python",
   "name": "python",
   "nbconvert_exporter": "python",
   "pygments_lexer": "ipython3",
   "version": "3.11.5"
  }
 },
 "nbformat": 4,
 "nbformat_minor": 5
}
