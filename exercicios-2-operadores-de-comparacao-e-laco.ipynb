{
 "cells": [
  {
   "cell_type": "markdown",
   "metadata": {},
   "source": [
    "<img src=\"https://asimov.academy/wp-content/uploads/2021/01/logo.png\" width=\"200\"/>\n",
    "_____________________________________________\n",
    "\n",
    "## Exercícios #2 - Operadores de comparação e laços\n"
   ]
  },
  {
   "cell_type": "markdown",
   "metadata": {},
   "source": [
    "### Exercício 1\n",
    "Faça um programa para a leitura de duas notas parciais de um aluno. O programa deve calcular a média alcançada por aluno e apresentar:\n",
    "- A mensagem \"Aprovado\", se a média alcançada for maior ou igual a 7;\n",
    "- A mensagem \"Reprovado\", se a média for menor do que 7;\n",
    "- A mensagem \"Aprovado com Distinção\", se a média for igual a 10."
   ]
  },
  {
   "cell_type": "code",
   "execution_count": 11,
   "metadata": {
    "tags": []
   },
   "outputs": [],
   "source": [
    "def media_aluno(nota1, nota2):\n",
    "    media = (nota1 + nota2) / 2\n",
    "    if media == 10:\n",
    "        msg = print(\"Aprovado com Distinção\")\n",
    "    elif media >= 7:\n",
    "        msg = print(\"Aprovado\")\n",
    "    else:\n",
    "        msg = print(\"Reprovado\")\n",
    "    return msg\n"
   ]
  },
  {
   "cell_type": "code",
   "execution_count": 13,
   "metadata": {
    "tags": []
   },
   "outputs": [
    {
     "name": "stdout",
     "output_type": "stream",
     "text": [
      "Aprovado\n"
     ]
    }
   ],
   "source": [
    "media_aluno(9,10)"
   ]
  },
  {
   "cell_type": "markdown",
   "metadata": {},
   "source": [
    "### Exercício 2\n",
    "Escreva um script que leia três números e mostre o maior e o menor deles."
   ]
  },
  {
   "cell_type": "code",
   "execution_count": 28,
   "metadata": {
    "tags": []
   },
   "outputs": [],
   "source": [
    "def num_maior(num1, num2, num3):\n",
    "    list_num = [num1, num2, num3]\n",
    "    list_num.sort()\n",
    "    return list_num\n"
   ]
  },
  {
   "cell_type": "code",
   "execution_count": 29,
   "metadata": {
    "tags": []
   },
   "outputs": [
    {
     "data": {
      "text/plain": [
       "[1, 2, 3]"
      ]
     },
     "execution_count": 29,
     "metadata": {},
     "output_type": "execute_result"
    }
   ],
   "source": [
    "num_maior(3,2,1)"
   ]
  },
  {
   "cell_type": "markdown",
   "metadata": {},
   "source": [
    "### Exercício 3 \n",
    "Nome na vertical em escada. \n",
    "\n",
    "F<br>\n",
    "FU<br>\n",
    "FUL<br>\n",
    "FULA<br>\n",
    "FULAN<br>\n",
    "FULANO<br>"
   ]
  },
  {
   "cell_type": "code",
   "execution_count": 41,
   "metadata": {
    "tags": []
   },
   "outputs": [],
   "source": [
    "def nome_crescente(nome):\n",
    "    for i in range(1, len(nome) + 1):\n",
    "        print(nome[:i])"
   ]
  },
  {
   "cell_type": "code",
   "execution_count": 44,
   "metadata": {
    "tags": []
   },
   "outputs": [
    {
     "name": "stdout",
     "output_type": "stream",
     "text": [
      "a\n",
      "ar\n",
      "art\n",
      "arth\n",
      "arthu\n",
      "arthur\n"
     ]
    }
   ],
   "source": [
    "nome_crescente(\"arthur\")"
   ]
  },
  {
   "cell_type": "markdown",
   "metadata": {},
   "source": [
    "### Exercício 4\n",
    "A série de Fibonacci é formada pela seqüência 1,1,2,3,5,8,13,21,34,55,... (o próximo termo, a partir do terceiro, é sempre gerado a partir do somatório dos últimos dois). Faça um programa capaz de gerar a série até o n−ésimo termo (onde o valor n deve ser inserido pelo usuário)."
   ]
  },
  {
   "cell_type": "code",
   "execution_count": 56,
   "metadata": {},
   "outputs": [
    {
     "name": "stdout",
     "output_type": "stream",
     "text": [
      "0 1 1 2 3 5 8 13 21 34 55 89 144 233 377 610 987 1597 2584 4181 "
     ]
    }
   ],
   "source": [
    "def fibonacci(n):\n",
    "    a, b = 0, 1\n",
    "    count = 0\n",
    "\n",
    "    while count < n:\n",
    "        print(a, end=\" \")\n",
    "        a, b = b, a + b\n",
    "        count += 1\n",
    "\n",
    "\n",
    "fibonacci(20)\n",
    "\n",
    "    "
   ]
  },
  {
   "cell_type": "markdown",
   "metadata": {},
   "source": [
    "### Exercício 5\n",
    "Faça um programa que leia e valide as seguintes informações:\n",
    "- Nome: maior que 3 caracteres;\n",
    "- Idade: entre 0 e 150;\n",
    "- Salário: maior que zero;\n",
    "- Sexo: 'f' ou 'm';\n",
    "- Estado Civil: 's', 'c', 'v', 'd';"
   ]
  },
  {
   "cell_type": "code",
   "execution_count": 57,
   "metadata": {},
   "outputs": [
    {
     "name": "stdout",
     "output_type": "stream",
     "text": [
      "Informações válidas\n"
     ]
    }
   ],
   "source": [
    "def validar_informacoes(nome, idade, salario, sexo, estado_civil):\n",
    "    # Validação do nome\n",
    "    if len(nome) <= 3:\n",
    "        return \"Nome deve ter mais de 3 caracteres\"\n",
    "\n",
    "    # Validação da idade\n",
    "    if not 0 <= idade <= 150:\n",
    "        return \"Idade deve estar entre 0 e 150\"\n",
    "\n",
    "    # Validação do salário\n",
    "    if salario <= 0:\n",
    "        return \"Salário deve ser maior que zero\"\n",
    "\n",
    "    # Validação do sexo\n",
    "    if sexo not in ('f', 'm'):\n",
    "        return \"Sexo deve ser 'f' ou 'm\"\n",
    "\n",
    "    # Validação do estado civil\n",
    "    if estado_civil not in ('s', 'c', 'v', 'd'):\n",
    "        return \"Estado civil deve ser 's', 'c', 'v' ou 'd\"\n",
    "\n",
    "    # Se todas as validações passarem, as informações são válidas\n",
    "    return \"Informações válidas\"\n",
    "\n",
    "# Exemplo de uso da função\n",
    "nome = \"Fulano\"\n",
    "idade = 30\n",
    "salario = 2000.0\n",
    "sexo = \"m\"\n",
    "estado_civil = \"s\"\n",
    "\n",
    "resultado = validar_informacoes(nome, idade, salario, sexo, estado_civil)\n",
    "print(resultado)"
   ]
  },
  {
   "cell_type": "markdown",
   "metadata": {},
   "source": [
    "### Exercício 6\n",
    "Faça um programa que peça um número inteiro e determine se ele é ou não um número primo. Um número primo é aquele que é divisível somente por ele mesmo e por 1. \n",
    "Dica: Utilize o operador aritmético `%`, que retorna o resto da divisão de dois números."
   ]
  },
  {
   "cell_type": "code",
   "execution_count": null,
   "metadata": {},
   "outputs": [],
   "source": []
  }
 ],
 "metadata": {
  "kernelspec": {
   "display_name": "Python 3 (ipykernel)",
   "language": "python",
   "name": "python3"
  },
  "language_info": {
   "codemirror_mode": {
    "name": "ipython",
    "version": 3
   },
   "file_extension": ".py",
   "mimetype": "text/x-python",
   "name": "python",
   "nbconvert_exporter": "python",
   "pygments_lexer": "ipython3",
   "version": "3.11.5"
  }
 },
 "nbformat": 4,
 "nbformat_minor": 4
}
