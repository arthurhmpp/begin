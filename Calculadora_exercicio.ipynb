{
 "cells": [
  {
   "cell_type": "code",
   "execution_count": null,
   "id": "940df02c-c819-42c4-bd7b-563711b5c3ff",
   "metadata": {
    "tags": []
   },
   "outputs": [
    {
     "name": "stdout",
     "output_type": "stream",
     "text": [
      "escolha uma das operações abaixo:\n",
      " 0  - soma \n",
      " 1  - subtração \n",
      " 2  - divisão \n",
      " 3  - multiplicação \n",
      " 4  - exponenciação\n"
     ]
    },
    {
     "name": "stdin",
     "output_type": "stream",
     "text": [
      " 0\n"
     ]
    },
    {
     "name": "stdout",
     "output_type": "stream",
     "text": [
      "informe o primeiro numero:\n"
     ]
    },
    {
     "name": "stdin",
     "output_type": "stream",
     "text": [
      " 8\n"
     ]
    },
    {
     "name": "stdout",
     "output_type": "stream",
     "text": [
      "informe o segundo numero:\n"
     ]
    },
    {
     "name": "stdin",
     "output_type": "stream",
     "text": [
      " 8\n"
     ]
    },
    {
     "name": "stdout",
     "output_type": "stream",
     "text": [
      "==============\n",
      "8 + 8 = 16 \n",
      "==============\n",
      "deseja fazer mais uma operação? (y ou n) \n"
     ]
    },
    {
     "name": "stdin",
     "output_type": "stream",
     "text": [
      " y\n"
     ]
    },
    {
     "name": "stdout",
     "output_type": "stream",
     "text": [
      " 0  - soma \n",
      " 1  - subtração \n",
      " 2  - divisão \n",
      " 3  - multiplicação \n",
      " 4  - exponenciação\n"
     ]
    }
   ],
   "source": [
    "print(\"escolha uma das operações abaixo:\")\n",
    "x = 0\n",
    "while True:\n",
    "    print(\" 0  - soma \\n 1  - subtração \\n 2  - divisão \\n 3  - multiplicação \\n 4  - exponenciação\")\n",
    "    tipo_operacao = int(input())\n",
    "\n",
    "    print(\"informe o primeiro numero:\")\n",
    "    num1 = int(input())\n",
    "    print(\"informe o segundo numero:\")\n",
    "    num2 = int(input())\n",
    "\n",
    "    if tipo_operacao == 0:\n",
    "        op = \"+\"\n",
    "        result = (num1 + num2)\n",
    "    elif tipo_operacao == 1:\n",
    "        op = \"-\"\n",
    "        result = (num1 - num2)\n",
    "    elif tipo_operacao == 2:\n",
    "        op = \"/\"\n",
    "        result = (num1 / num2)\n",
    "    elif tipo_operacao == 3:\n",
    "        op = \"*\"\n",
    "        result = (num1 * num2)\n",
    "    else:\n",
    "        op = \"^\"\n",
    "        result = (num1 ** num2)\n",
    "    \n",
    "    print(\"==============\")\n",
    "    print(\"{} {} {} = {} \".format(num1, op, num2, result))\n",
    "    print(\"==============\")\n",
    "    \n",
    "    print(\"deseja fazer mais uma operação? (y ou n) \")\n",
    "    parar = input()\n",
    "    \n",
    "    if parar == \"n\":\n",
    "        break\n",
    "    \n"
   ]
  },
  {
   "cell_type": "code",
   "execution_count": null,
   "id": "295fd14d-06e3-495e-aeec-feec92626deb",
   "metadata": {},
   "outputs": [],
   "source": []
  }
 ],
 "metadata": {
  "kernelspec": {
   "display_name": "Python 3 (ipykernel)",
   "language": "python",
   "name": "python3"
  },
  "language_info": {
   "codemirror_mode": {
    "name": "ipython",
    "version": 3
   },
   "file_extension": ".py",
   "mimetype": "text/x-python",
   "name": "python",
   "nbconvert_exporter": "python",
   "pygments_lexer": "ipython3",
   "version": "3.11.5"
  }
 },
 "nbformat": 4,
 "nbformat_minor": 5
}
