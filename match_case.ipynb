{
 "cells": [
  {
   "cell_type": "markdown",
   "id": "9bd02052-9c01-40de-bea4-6d24d6ebd2a8",
   "metadata": {},
   "source": [
    "## match case"
   ]
  },
  {
   "cell_type": "code",
   "execution_count": 1,
   "id": "a9a73072-60ef-4686-b3a5-29e470ef6f40",
   "metadata": {
    "tags": []
   },
   "outputs": [],
   "source": [
    "dia  = 1"
   ]
  },
  {
   "cell_type": "code",
   "execution_count": 7,
   "id": "ebf17006-c34b-413c-8a33-304c47448b09",
   "metadata": {
    "tags": []
   },
   "outputs": [
    {
     "ename": "IndentationError",
     "evalue": "expected an indented block after 'match' statement on line 1 (2390993031.py, line 3)",
     "output_type": "error",
     "traceback": [
      "\u001b[0;36m  Cell \u001b[0;32mIn[7], line 3\u001b[0;36m\u001b[0m\n\u001b[0;31m    Case 1:\u001b[0m\n\u001b[0m    ^\u001b[0m\n\u001b[0;31mIndentationError\u001b[0m\u001b[0;31m:\u001b[0m expected an indented block after 'match' statement on line 1\n"
     ]
    }
   ],
   "source": [
    "match dia:\n",
    "case 1:\n",
    "    print(\"Domingo\")\n",
    "case 2:\n",
    "    print(\"Segunda\")\n",
    "case 3:\n",
    "    print(\"Terça\")\n",
    "case 4:\n",
    "    print(\"Quarta\")\n",
    "case 5:\n",
    "    print(\"Quinta\")\n",
    "    case 6:\n",
    "    print(\"Sexta\")\n",
    "    case 7:\n",
    "        print(\"Sábado\")"
   ]
  },
  {
   "cell_type": "code",
   "execution_count": null,
   "id": "12151574-cf70-40e8-a7c4-4005eb952304",
   "metadata": {},
   "outputs": [],
   "source": []
  }
 ],
 "metadata": {
  "kernelspec": {
   "display_name": "Python 3 (ipykernel)",
   "language": "python",
   "name": "python3"
  },
  "language_info": {
   "codemirror_mode": {
    "name": "ipython",
    "version": 3
   },
   "file_extension": ".py",
   "mimetype": "text/x-python",
   "name": "python",
   "nbconvert_exporter": "python",
   "pygments_lexer": "ipython3",
   "version": "3.11.5"
  }
 },
 "nbformat": 4,
 "nbformat_minor": 5
}
